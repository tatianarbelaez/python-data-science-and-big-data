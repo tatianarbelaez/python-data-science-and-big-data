{
 "cells": [
  {
   "cell_type": "code",
   "execution_count": null,
   "id": "6fb3d734",
   "metadata": {},
   "outputs": [],
   "source": [
    "# -*- coding: utf-8 -*-\n",
    "\n",
    "#GRAFICOS PARA SERIES TEMPORALES"
   ]
  },
  {
   "cell_type": "code",
   "execution_count": 60,
   "id": "58792d96",
   "metadata": {
    "scrolled": true
   },
   "outputs": [],
   "source": [
    "import pandas as pd\n",
    "import numpy as np\n",
    "import seaborn as sns \n",
    "import datetime\n",
    "import time\n",
    "df = pd.read_csv(r\"C:\\Users\\user\\Documents\\PYTHON\\Python data science y big data\\Datos\\Indicators_of_Health_Insurance_Coverage.csv\",nrows=1000000)\n",
    "df2 = df[df['Group'].isin(['By Age','By Sex'])]\n",
    "df = df.head(500000)"
   ]
  },
  {
   "cell_type": "code",
   "execution_count": 2,
   "id": "d51611a9",
   "metadata": {
    "scrolled": true
   },
   "outputs": [
    {
     "data": {
      "text/html": [
       "<div>\n",
       "<style scoped>\n",
       "    .dataframe tbody tr th:only-of-type {\n",
       "        vertical-align: middle;\n",
       "    }\n",
       "\n",
       "    .dataframe tbody tr th {\n",
       "        vertical-align: top;\n",
       "    }\n",
       "\n",
       "    .dataframe thead th {\n",
       "        text-align: right;\n",
       "    }\n",
       "</style>\n",
       "<table border=\"1\" class=\"dataframe\">\n",
       "  <thead>\n",
       "    <tr style=\"text-align: right;\">\n",
       "      <th></th>\n",
       "      <th>Indicator</th>\n",
       "      <th>Group</th>\n",
       "      <th>State</th>\n",
       "      <th>Subgroup</th>\n",
       "      <th>Phase</th>\n",
       "      <th>Time Period</th>\n",
       "      <th>Time Period Label</th>\n",
       "      <th>Time Period Start Date</th>\n",
       "      <th>Time Period End Date</th>\n",
       "      <th>Value</th>\n",
       "      <th>Low CI</th>\n",
       "      <th>High CI</th>\n",
       "      <th>Confidence Interval</th>\n",
       "      <th>Quartile Range</th>\n",
       "      <th>Suppression Flag</th>\n",
       "    </tr>\n",
       "  </thead>\n",
       "  <tbody>\n",
       "    <tr>\n",
       "      <th>0</th>\n",
       "      <td>Uninsured at the Time of Interview</td>\n",
       "      <td>National Estimate</td>\n",
       "      <td>United States</td>\n",
       "      <td>United States</td>\n",
       "      <td>1</td>\n",
       "      <td>1</td>\n",
       "      <td>Apr 23 - May 5, 2020</td>\n",
       "      <td>04/23/2020</td>\n",
       "      <td>05/05/2020</td>\n",
       "      <td>12.6</td>\n",
       "      <td>12.1</td>\n",
       "      <td>13.3</td>\n",
       "      <td>12.1 - 13.3</td>\n",
       "      <td>NaN</td>\n",
       "      <td>NaN</td>\n",
       "    </tr>\n",
       "    <tr>\n",
       "      <th>1</th>\n",
       "      <td>Uninsured at the Time of Interview</td>\n",
       "      <td>By Age</td>\n",
       "      <td>United States</td>\n",
       "      <td>18 - 24 years</td>\n",
       "      <td>1</td>\n",
       "      <td>1</td>\n",
       "      <td>Apr 23 - May 5, 2020</td>\n",
       "      <td>04/23/2020</td>\n",
       "      <td>05/05/2020</td>\n",
       "      <td>17.7</td>\n",
       "      <td>14.2</td>\n",
       "      <td>21.6</td>\n",
       "      <td>14.2 - 21.6</td>\n",
       "      <td>NaN</td>\n",
       "      <td>NaN</td>\n",
       "    </tr>\n",
       "    <tr>\n",
       "      <th>2</th>\n",
       "      <td>Uninsured at the Time of Interview</td>\n",
       "      <td>By Age</td>\n",
       "      <td>United States</td>\n",
       "      <td>25 - 34 years</td>\n",
       "      <td>1</td>\n",
       "      <td>1</td>\n",
       "      <td>Apr 23 - May 5, 2020</td>\n",
       "      <td>04/23/2020</td>\n",
       "      <td>05/05/2020</td>\n",
       "      <td>16.8</td>\n",
       "      <td>15.6</td>\n",
       "      <td>18.1</td>\n",
       "      <td>15.6 - 18.1</td>\n",
       "      <td>NaN</td>\n",
       "      <td>NaN</td>\n",
       "    </tr>\n",
       "    <tr>\n",
       "      <th>3</th>\n",
       "      <td>Uninsured at the Time of Interview</td>\n",
       "      <td>By Age</td>\n",
       "      <td>United States</td>\n",
       "      <td>35 - 44 years</td>\n",
       "      <td>1</td>\n",
       "      <td>1</td>\n",
       "      <td>Apr 23 - May 5, 2020</td>\n",
       "      <td>04/23/2020</td>\n",
       "      <td>05/05/2020</td>\n",
       "      <td>12.1</td>\n",
       "      <td>10.7</td>\n",
       "      <td>13.6</td>\n",
       "      <td>10.7 - 13.6</td>\n",
       "      <td>NaN</td>\n",
       "      <td>NaN</td>\n",
       "    </tr>\n",
       "    <tr>\n",
       "      <th>4</th>\n",
       "      <td>Uninsured at the Time of Interview</td>\n",
       "      <td>By Age</td>\n",
       "      <td>United States</td>\n",
       "      <td>45 - 64 years</td>\n",
       "      <td>1</td>\n",
       "      <td>1</td>\n",
       "      <td>Apr 23 - May 5, 2020</td>\n",
       "      <td>04/23/2020</td>\n",
       "      <td>05/05/2020</td>\n",
       "      <td>9.5</td>\n",
       "      <td>8.8</td>\n",
       "      <td>10.2</td>\n",
       "      <td>8.8 - 10.2</td>\n",
       "      <td>NaN</td>\n",
       "      <td>NaN</td>\n",
       "    </tr>\n",
       "    <tr>\n",
       "      <th>...</th>\n",
       "      <td>...</td>\n",
       "      <td>...</td>\n",
       "      <td>...</td>\n",
       "      <td>...</td>\n",
       "      <td>...</td>\n",
       "      <td>...</td>\n",
       "      <td>...</td>\n",
       "      <td>...</td>\n",
       "      <td>...</td>\n",
       "      <td>...</td>\n",
       "      <td>...</td>\n",
       "      <td>...</td>\n",
       "      <td>...</td>\n",
       "      <td>...</td>\n",
       "      <td>...</td>\n",
       "    </tr>\n",
       "    <tr>\n",
       "      <th>7762</th>\n",
       "      <td>Private Health Insurance Coverage</td>\n",
       "      <td>By State</td>\n",
       "      <td>Virginia</td>\n",
       "      <td>Virginia</td>\n",
       "      <td>3.2</td>\n",
       "      <td>37</td>\n",
       "      <td>Sep 1 - Sep 13, 2021</td>\n",
       "      <td>09/01/2021</td>\n",
       "      <td>09/13/2021</td>\n",
       "      <td>83.0</td>\n",
       "      <td>78.4</td>\n",
       "      <td>87.0</td>\n",
       "      <td>78.4 - 87.0</td>\n",
       "      <td>81.6-89.4</td>\n",
       "      <td>NaN</td>\n",
       "    </tr>\n",
       "    <tr>\n",
       "      <th>7763</th>\n",
       "      <td>Private Health Insurance Coverage</td>\n",
       "      <td>By State</td>\n",
       "      <td>Washington</td>\n",
       "      <td>Washington</td>\n",
       "      <td>3.2</td>\n",
       "      <td>37</td>\n",
       "      <td>Sep 1 - Sep 13, 2021</td>\n",
       "      <td>09/01/2021</td>\n",
       "      <td>09/13/2021</td>\n",
       "      <td>77.4</td>\n",
       "      <td>73.8</td>\n",
       "      <td>80.8</td>\n",
       "      <td>73.8 - 80.8</td>\n",
       "      <td>73.0-78.9</td>\n",
       "      <td>NaN</td>\n",
       "    </tr>\n",
       "    <tr>\n",
       "      <th>7764</th>\n",
       "      <td>Private Health Insurance Coverage</td>\n",
       "      <td>By State</td>\n",
       "      <td>West Virginia</td>\n",
       "      <td>West Virginia</td>\n",
       "      <td>3.2</td>\n",
       "      <td>37</td>\n",
       "      <td>Sep 1 - Sep 13, 2021</td>\n",
       "      <td>09/01/2021</td>\n",
       "      <td>09/13/2021</td>\n",
       "      <td>73.6</td>\n",
       "      <td>64.1</td>\n",
       "      <td>81.8</td>\n",
       "      <td>64.1 - 81.8</td>\n",
       "      <td>73.0-78.9</td>\n",
       "      <td>NaN</td>\n",
       "    </tr>\n",
       "    <tr>\n",
       "      <th>7765</th>\n",
       "      <td>Private Health Insurance Coverage</td>\n",
       "      <td>By State</td>\n",
       "      <td>Wisconsin</td>\n",
       "      <td>Wisconsin</td>\n",
       "      <td>3.2</td>\n",
       "      <td>37</td>\n",
       "      <td>Sep 1 - Sep 13, 2021</td>\n",
       "      <td>09/01/2021</td>\n",
       "      <td>09/13/2021</td>\n",
       "      <td>85.5</td>\n",
       "      <td>81.0</td>\n",
       "      <td>89.2</td>\n",
       "      <td>81.0 - 89.2</td>\n",
       "      <td>81.6-89.4</td>\n",
       "      <td>NaN</td>\n",
       "    </tr>\n",
       "    <tr>\n",
       "      <th>7766</th>\n",
       "      <td>Private Health Insurance Coverage</td>\n",
       "      <td>By State</td>\n",
       "      <td>Wyoming</td>\n",
       "      <td>Wyoming</td>\n",
       "      <td>3.2</td>\n",
       "      <td>37</td>\n",
       "      <td>Sep 1 - Sep 13, 2021</td>\n",
       "      <td>09/01/2021</td>\n",
       "      <td>09/13/2021</td>\n",
       "      <td>81.5</td>\n",
       "      <td>75.3</td>\n",
       "      <td>86.6</td>\n",
       "      <td>75.3 - 86.6</td>\n",
       "      <td>79.0-81.5</td>\n",
       "      <td>NaN</td>\n",
       "    </tr>\n",
       "  </tbody>\n",
       "</table>\n",
       "<p>7767 rows × 15 columns</p>\n",
       "</div>"
      ],
      "text/plain": [
       "                               Indicator              Group          State  \\\n",
       "0     Uninsured at the Time of Interview  National Estimate  United States   \n",
       "1     Uninsured at the Time of Interview             By Age  United States   \n",
       "2     Uninsured at the Time of Interview             By Age  United States   \n",
       "3     Uninsured at the Time of Interview             By Age  United States   \n",
       "4     Uninsured at the Time of Interview             By Age  United States   \n",
       "...                                  ...                ...            ...   \n",
       "7762   Private Health Insurance Coverage           By State       Virginia   \n",
       "7763   Private Health Insurance Coverage           By State     Washington   \n",
       "7764   Private Health Insurance Coverage           By State  West Virginia   \n",
       "7765   Private Health Insurance Coverage           By State      Wisconsin   \n",
       "7766   Private Health Insurance Coverage           By State        Wyoming   \n",
       "\n",
       "           Subgroup Phase  Time Period     Time Period Label  \\\n",
       "0     United States     1            1  Apr 23 - May 5, 2020   \n",
       "1     18 - 24 years     1            1  Apr 23 - May 5, 2020   \n",
       "2     25 - 34 years     1            1  Apr 23 - May 5, 2020   \n",
       "3     35 - 44 years     1            1  Apr 23 - May 5, 2020   \n",
       "4     45 - 64 years     1            1  Apr 23 - May 5, 2020   \n",
       "...             ...   ...          ...                   ...   \n",
       "7762       Virginia   3.2           37  Sep 1 - Sep 13, 2021   \n",
       "7763     Washington   3.2           37  Sep 1 - Sep 13, 2021   \n",
       "7764  West Virginia   3.2           37  Sep 1 - Sep 13, 2021   \n",
       "7765      Wisconsin   3.2           37  Sep 1 - Sep 13, 2021   \n",
       "7766        Wyoming   3.2           37  Sep 1 - Sep 13, 2021   \n",
       "\n",
       "     Time Period Start Date Time Period End Date  Value  Low CI  High CI  \\\n",
       "0                04/23/2020           05/05/2020   12.6    12.1     13.3   \n",
       "1                04/23/2020           05/05/2020   17.7    14.2     21.6   \n",
       "2                04/23/2020           05/05/2020   16.8    15.6     18.1   \n",
       "3                04/23/2020           05/05/2020   12.1    10.7     13.6   \n",
       "4                04/23/2020           05/05/2020    9.5     8.8     10.2   \n",
       "...                     ...                  ...    ...     ...      ...   \n",
       "7762             09/01/2021           09/13/2021   83.0    78.4     87.0   \n",
       "7763             09/01/2021           09/13/2021   77.4    73.8     80.8   \n",
       "7764             09/01/2021           09/13/2021   73.6    64.1     81.8   \n",
       "7765             09/01/2021           09/13/2021   85.5    81.0     89.2   \n",
       "7766             09/01/2021           09/13/2021   81.5    75.3     86.6   \n",
       "\n",
       "     Confidence Interval Quartile Range  Suppression Flag  \n",
       "0            12.1 - 13.3            NaN               NaN  \n",
       "1            14.2 - 21.6            NaN               NaN  \n",
       "2            15.6 - 18.1            NaN               NaN  \n",
       "3            10.7 - 13.6            NaN               NaN  \n",
       "4             8.8 - 10.2            NaN               NaN  \n",
       "...                  ...            ...               ...  \n",
       "7762         78.4 - 87.0      81.6-89.4               NaN  \n",
       "7763         73.8 - 80.8      73.0-78.9               NaN  \n",
       "7764         64.1 - 81.8      73.0-78.9               NaN  \n",
       "7765         81.0 - 89.2      81.6-89.4               NaN  \n",
       "7766         75.3 - 86.6      79.0-81.5               NaN  \n",
       "\n",
       "[7767 rows x 15 columns]"
      ]
     },
     "execution_count": 2,
     "metadata": {},
     "output_type": "execute_result"
    }
   ],
   "source": [
    "df"
   ]
  },
  {
   "cell_type": "code",
   "execution_count": 61,
   "id": "d1f9c799",
   "metadata": {},
   "outputs": [],
   "source": [
    "times = []\n",
    "for i in np.arange(len(df)):\n",
    "    #times.append(datetime.datetime(year = df.loc[i,'Year'], month = df.loc[i,'Month'], day = df.loc[i,'Day']))\n",
    "    #Si tenemos separados en diferentes columnas el año, el mes y el dia y lo queremos unir en formato fechdfa\n",
    "    times.append(datetime.datetime.strptime(df.loc[i,'Time Period Start Date'], '%m/%d/%Y'))\n",
    "#Aqui ya tenemos la fecha completa pero esta como str y necesitamos que quede en formato fecha"
   ]
  },
  {
   "cell_type": "code",
   "execution_count": 62,
   "id": "1159be95",
   "metadata": {},
   "outputs": [
    {
     "data": {
      "text/plain": [
       "datetime.datetime(2020, 4, 23, 0, 0)"
      ]
     },
     "execution_count": 62,
     "metadata": {},
     "output_type": "execute_result"
    }
   ],
   "source": [
    "times[4]\n",
    "#Muestra la fecha para la fila 5000 de"
   ]
  },
  {
   "cell_type": "code",
   "execution_count": 63,
   "id": "4a7db3f5",
   "metadata": {},
   "outputs": [],
   "source": [
    "df['Time'] = times"
   ]
  },
  {
   "cell_type": "code",
   "execution_count": 64,
   "id": "36023a1f",
   "metadata": {},
   "outputs": [
    {
     "data": {
      "text/html": [
       "<div>\n",
       "<style scoped>\n",
       "    .dataframe tbody tr th:only-of-type {\n",
       "        vertical-align: middle;\n",
       "    }\n",
       "\n",
       "    .dataframe tbody tr th {\n",
       "        vertical-align: top;\n",
       "    }\n",
       "\n",
       "    .dataframe thead th {\n",
       "        text-align: right;\n",
       "    }\n",
       "</style>\n",
       "<table border=\"1\" class=\"dataframe\">\n",
       "  <thead>\n",
       "    <tr style=\"text-align: right;\">\n",
       "      <th></th>\n",
       "      <th>Time</th>\n",
       "      <th>Low CI</th>\n",
       "      <th>Value</th>\n",
       "    </tr>\n",
       "  </thead>\n",
       "  <tbody>\n",
       "    <tr>\n",
       "      <th>0</th>\n",
       "      <td>2020-04-23</td>\n",
       "      <td>33.276617</td>\n",
       "      <td>36.768159</td>\n",
       "    </tr>\n",
       "    <tr>\n",
       "      <th>1</th>\n",
       "      <td>2020-05-07</td>\n",
       "      <td>33.148168</td>\n",
       "      <td>38.305759</td>\n",
       "    </tr>\n",
       "    <tr>\n",
       "      <th>2</th>\n",
       "      <td>2020-05-14</td>\n",
       "      <td>33.181407</td>\n",
       "      <td>37.136683</td>\n",
       "    </tr>\n",
       "    <tr>\n",
       "      <th>3</th>\n",
       "      <td>2020-05-21</td>\n",
       "      <td>33.813636</td>\n",
       "      <td>37.427778</td>\n",
       "    </tr>\n",
       "    <tr>\n",
       "      <th>4</th>\n",
       "      <td>2020-05-28</td>\n",
       "      <td>33.506468</td>\n",
       "      <td>36.965174</td>\n",
       "    </tr>\n",
       "  </tbody>\n",
       "</table>\n",
       "</div>"
      ],
      "text/plain": [
       "        Time     Low CI      Value\n",
       "0 2020-04-23  33.276617  36.768159\n",
       "1 2020-05-07  33.148168  38.305759\n",
       "2 2020-05-14  33.181407  37.136683\n",
       "3 2020-05-21  33.813636  37.427778\n",
       "4 2020-05-28  33.506468  36.965174"
      ]
     },
     "execution_count": 64,
     "metadata": {},
     "output_type": "execute_result"
    }
   ],
   "source": [
    "data = df.groupby(by=['Time'],as_index =False)[['Low CI', 'Value']].mean()\n",
    "data.head()\n",
    "#as_index hace que Time sea una columna aparte y no solo el indice de las filas\n",
    "#La media de Low CI y de Value para esa fecha es lo que sale en las columnas\n",
    "#data = df.groupby(by=['Time'],as_index =False)['Low CI','Value'].mean()"
   ]
  },
  {
   "cell_type": "code",
   "execution_count": 65,
   "id": "d39248e6",
   "metadata": {},
   "outputs": [
    {
     "data": {
      "text/plain": [
       "<AxesSubplot:xlabel='Time', ylabel='Value'>"
      ]
     },
     "execution_count": 65,
     "metadata": {},
     "output_type": "execute_result"
    },
    {
     "data": {
      "image/png": "[encoded data removed]",
      "text/plain": [
       "<Figure size 432x288 with 1 Axes>"
      ]
     },
     "metadata": {
      "needs_background": "light"
     },
     "output_type": "display_data"
    }
   ],
   "source": [
    "#sns.lineplot(data['Time'],data['Value'])\n",
    "#Grafico de linea de los datos de la columna Value, contra la fecha --> seguimiento de indicador en el tiempo\n",
    "sns.lineplot(x = data['Time'], y=data['Value'])"
   ]
  },
  {
   "cell_type": "code",
   "execution_count": 71,
   "id": "9cdbc355",
   "metadata": {},
   "outputs": [
    {
     "data": {
      "text/plain": [
       "<AxesSubplot:>"
      ]
     },
     "execution_count": 71,
     "metadata": {},
     "output_type": "execute_result"
    },
    {
     "data": {
      "image/png": "[encoded data removed]",
      "text/plain": [
       "<Figure size 432x288 with 1 Axes>"
      ]
     },
     "metadata": {
      "needs_background": "light"
     },
     "output_type": "display_data"
    }
   ],
   "source": [
    "sns.lineplot(data=data)"
   ]
  },
  {
   "cell_type": "code",
   "execution_count": null,
   "id": "f39a74f5",
   "metadata": {},
   "outputs": [],
   "source": []
  },
  {
   "cell_type": "code",
   "execution_count": null,
   "id": "43b8281c",
   "metadata": {},
   "outputs": [],
   "source": []
  },
  {
   "cell_type": "code",
   "execution_count": null,
   "id": "53fe102d",
   "metadata": {},
   "outputs": [],
   "source": []
  },
  {
   "cell_type": "code",
   "execution_count": null,
   "id": "9f312234",
   "metadata": {},
   "outputs": [],
   "source": []
  },
  {
   "cell_type": "code",
   "execution_count": null,
   "id": "5adeab4f",
   "metadata": {},
   "outputs": [],
   "source": [
    "\n"
   ]
  },
  {
   "cell_type": "code",
   "execution_count": null,
   "id": "5f9f53d7",
   "metadata": {
    "scrolled": true
   },
   "outputs": [],
   "source": []
  },
  {
   "cell_type": "code",
   "execution_count": null,
   "id": "9512ea55",
   "metadata": {},
   "outputs": [],
   "source": []
  },
  {
   "cell_type": "code",
   "execution_count": null,
   "id": "269f5047",
   "metadata": {},
   "outputs": [],
   "source": []
  },
  {
   "cell_type": "code",
   "execution_count": null,
   "id": "5f325fd2",
   "metadata": {},
   "outputs": [],
   "source": []
  },
  {
   "cell_type": "code",
   "execution_count": null,
   "id": "caa6bfe9",
   "metadata": {},
   "outputs": [],
   "source": []
  }
 ],
 "metadata": {
  "kernelspec": {
   "display_name": "Python 3",
   "language": "python",
   "name": "python3"
  },
  "language_info": {
   "codemirror_mode": {
    "name": "ipython",
    "version": 3
   },
   "file_extension": ".py",
   "mimetype": "text/x-python",
   "name": "python",
   "nbconvert_exporter": "python",
   "pygments_lexer": "ipython3",
   "version": "3.8.8"
  }
 },
 "nbformat": 4,
 "nbformat_minor": 5
}
