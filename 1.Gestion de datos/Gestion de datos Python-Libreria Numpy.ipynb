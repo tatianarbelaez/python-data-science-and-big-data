{
 "cells": [
  {
   "cell_type": "code",
   "execution_count": 1,
   "id": "6fb3d734",
   "metadata": {},
   "outputs": [],
   "source": [
    "# -*- coding: utf-8 -*-\n",
    "import numpy as np"
   ]
  },
  {
   "cell_type": "code",
   "execution_count": 2,
   "id": "58792d96",
   "metadata": {},
   "outputs": [
    {
     "data": {
      "text/plain": [
       "array([[8, 7, 8, 5],\n",
       "       [2, 6, 8, 1],\n",
       "       [8, 8, 9, 5]])"
      ]
     },
     "execution_count": 2,
     "metadata": {},
     "output_type": "execute_result"
    }
   ],
   "source": [
    "valoraciones = np.array([[8,7,8,5],[2,6,8,1],[8,8,9,5]])\n",
    "valoraciones\n",
    "#3 clientes califican 4 productos diferentes"
   ]
  },
  {
   "cell_type": "code",
   "execution_count": 5,
   "id": "d51611a9",
   "metadata": {
    "scrolled": true
   },
   "outputs": [
    {
     "data": {
      "text/plain": [
       "7"
      ]
     },
     "execution_count": 5,
     "metadata": {},
     "output_type": "execute_result"
    }
   ],
   "source": [
    "valoraciones[0][1]\n",
    "valoraciones[0,1]\n",
    "#Escoge el valor que se encuentra en la interseccion entre primera fila(0) y la segunda columna(1)\n",
    "#Este 7 es la valoracion que le dió el cliente 1 al producto numero 2 "
   ]
  },
  {
   "cell_type": "code",
   "execution_count": 7,
   "id": "d1f9c799",
   "metadata": {},
   "outputs": [],
   "source": [
    "valoraciones2 = np.array([[[8,7,8,5],[2,5,5,2]],[[2,6,8,4],[8,9,7,4]],[[8,8,9,3],[10,9,10,8]]])\n",
    "#3 clientes califican en 2 años diferentes(1.2020,2.2021), 4 productos"
   ]
  },
  {
   "cell_type": "code",
   "execution_count": 8,
   "id": "7dcd4b36",
   "metadata": {},
   "outputs": [
    {
     "data": {
      "text/plain": [
       "array([[[ 8,  7,  8,  5],\n",
       "        [ 2,  5,  5,  2]],\n",
       "\n",
       "       [[ 2,  6,  8,  4],\n",
       "        [ 8,  9,  7,  4]],\n",
       "\n",
       "       [[ 8,  8,  9,  3],\n",
       "        [10,  9, 10,  8]]])"
      ]
     },
     "execution_count": 8,
     "metadata": {},
     "output_type": "execute_result"
    }
   ],
   "source": [
    "valoraciones2"
   ]
  },
  {
   "cell_type": "code",
   "execution_count": 11,
   "id": "1159be95",
   "metadata": {},
   "outputs": [
    {
     "data": {
      "text/plain": [
       "4"
      ]
     },
     "execution_count": 11,
     "metadata": {},
     "output_type": "execute_result"
    }
   ],
   "source": [
    "valoraciones2[1,0,3]\n",
    "#El cliente 2 en el año 2020 caifica el producto 4 con un puntaje de 4"
   ]
  },
  {
   "cell_type": "code",
   "execution_count": 12,
   "id": "4a7db3f5",
   "metadata": {},
   "outputs": [
    {
     "data": {
      "text/plain": [
       "array([[[0., 0., 0., 0.],\n",
       "        [0., 0., 0., 0.]],\n",
       "\n",
       "       [[0., 0., 0., 0.],\n",
       "        [0., 0., 0., 0.]],\n",
       "\n",
       "       [[0., 0., 0., 0.],\n",
       "        [0., 0., 0., 0.]]])"
      ]
     },
     "execution_count": 12,
     "metadata": {},
     "output_type": "execute_result"
    }
   ],
   "source": [
    "np.zeros((3,2,4))\n",
    "#Array de solo ceros con las dimensiones especificaddas"
   ]
  },
  {
   "cell_type": "code",
   "execution_count": 13,
   "id": "36023a1f",
   "metadata": {},
   "outputs": [
    {
     "data": {
      "text/plain": [
       "array([[[ 9.,  8.,  9.,  6.],\n",
       "        [ 3.,  6.,  6.,  3.]],\n",
       "\n",
       "       [[ 3.,  7.,  9.,  5.],\n",
       "        [ 9., 10.,  8.,  5.]],\n",
       "\n",
       "       [[ 9.,  9., 10.,  4.],\n",
       "        [11., 10., 11.,  9.]]])"
      ]
     },
     "execution_count": 13,
     "metadata": {},
     "output_type": "execute_result"
    }
   ],
   "source": [
    "valoraciones2 + np.ones((3,2,4))\n",
    "#A la matriz le sumo una matriz de unos"
   ]
  },
  {
   "cell_type": "code",
   "execution_count": 14,
   "id": "9cdbc355",
   "metadata": {},
   "outputs": [
    {
     "data": {
      "text/plain": [
       "6.458333333333333"
      ]
     },
     "execution_count": 14,
     "metadata": {},
     "output_type": "execute_result"
    }
   ],
   "source": [
    "np.mean(valoraciones2)"
   ]
  },
  {
   "cell_type": "code",
   "execution_count": 15,
   "id": "f39a74f5",
   "metadata": {},
   "outputs": [
    {
     "data": {
      "text/plain": [
       "array([[6.        , 7.        , 8.33333333, 4.        ],\n",
       "       [6.66666667, 7.66666667, 7.33333333, 4.66666667]])"
      ]
     },
     "execution_count": 15,
     "metadata": {},
     "output_type": "execute_result"
    }
   ],
   "source": [
    "np.mean(valoraciones2, axis = 0)"
   ]
  },
  {
   "cell_type": "code",
   "execution_count": 16,
   "id": "43b8281c",
   "metadata": {},
   "outputs": [
    {
     "data": {
      "text/plain": [
       "array([[5. , 6. , 6.5, 3.5],\n",
       "       [5. , 7.5, 7.5, 4. ],\n",
       "       [9. , 8.5, 9.5, 5.5]])"
      ]
     },
     "execution_count": 16,
     "metadata": {},
     "output_type": "execute_result"
    }
   ],
   "source": [
    "np.mean(valoraciones2, axis = 1)"
   ]
  },
  {
   "cell_type": "code",
   "execution_count": 17,
   "id": "9f312234",
   "metadata": {},
   "outputs": [
    {
     "data": {
      "text/plain": [
       "array([[7.  , 3.5 ],\n",
       "       [5.  , 7.  ],\n",
       "       [7.  , 9.25]])"
      ]
     },
     "execution_count": 17,
     "metadata": {},
     "output_type": "execute_result"
    }
   ],
   "source": [
    "np.mean(valoraciones2, axis = 2)"
   ]
  },
  {
   "cell_type": "code",
   "execution_count": 18,
   "id": "5adeab4f",
   "metadata": {},
   "outputs": [
    {
     "data": {
      "text/plain": [
       "array([[[ 1,  2],\n",
       "        [ 3,  4]],\n",
       "\n",
       "       [[ 5,  6],\n",
       "        [ 7,  8]],\n",
       "\n",
       "       [[ 9, 10],\n",
       "        [11, 12]]])"
      ]
     },
     "execution_count": 18,
     "metadata": {},
     "output_type": "execute_result"
    }
   ],
   "source": [
    "np.reshape([1,2,3,4,5,6,7,8,9,10,11,12],(3,2,2))\n",
    "#Cambia una lista en una matriz con las dimensiones especificadas"
   ]
  },
  {
   "cell_type": "code",
   "execution_count": null,
   "id": "5f9f53d7",
   "metadata": {},
   "outputs": [],
   "source": [
    "np.median(df[\"columna\"])\n",
    "#mediana de una columna de un dataframe"
   ]
  },
  {
   "cell_type": "code",
   "execution_count": 20,
   "id": "9512ea55",
   "metadata": {},
   "outputs": [
    {
     "data": {
      "text/plain": [
       "array([[0.68389475, 0.32713323],\n",
       "       [0.20725759, 0.07521593]])"
      ]
     },
     "execution_count": 20,
     "metadata": {},
     "output_type": "execute_result"
    }
   ],
   "source": [
    "np.random.rand(2,2)"
   ]
  },
  {
   "cell_type": "code",
   "execution_count": null,
   "id": "5d5becba",
   "metadata": {},
   "outputs": [],
   "source": []
  }
 ],
 "metadata": {
  "kernelspec": {
   "display_name": "Python 3",
   "language": "python",
   "name": "python3"
  },
  "language_info": {
   "codemirror_mode": {
    "name": "ipython",
    "version": 3
   },
   "file_extension": ".py",
   "mimetype": "text/x-python",
   "name": "python",
   "nbconvert_exporter": "python",
   "pygments_lexer": "ipython3",
   "version": "3.8.8"
  }
 },
 "nbformat": 4,
 "nbformat_minor": 5
}
