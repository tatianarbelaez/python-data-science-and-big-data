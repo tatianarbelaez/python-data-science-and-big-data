{
 "cells": [
  {
   "cell_type": "code",
   "execution_count": 3,
   "id": "6fb3d734",
   "metadata": {},
   "outputs": [],
   "source": [
    "# -*- coding: utf-8 -*-"
   ]
  },
  {
   "cell_type": "code",
   "execution_count": 4,
   "id": "58792d96",
   "metadata": {},
   "outputs": [],
   "source": [
    "import pandas as pd\n",
    "import numpy as np\n",
    "df = pd.read_csv(r\"C:\\Users\\user\\Downloads\\Educacion Colombia.csv\",nrows=100000)"
   ]
  },
  {
   "cell_type": "code",
   "execution_count": null,
   "id": "d51611a9",
   "metadata": {
    "scrolled": true
   },
   "outputs": [],
   "source": [
    "df.columns"
   ]
  },
  {
   "cell_type": "code",
   "execution_count": null,
   "id": "d1f9c799",
   "metadata": {},
   "outputs": [],
   "source": [
    "np.corrcoef(df['variable1'], df['variable2'])\n",
    "#Con esta funcion se obtienen los coeficientes de las correlaciones entre variables en un arreglo (matriz de correlacion)\n",
    "#Si las correlaciones aparecen como NA es porque hay valores faltantes"
   ]
  },
  {
   "cell_type": "code",
   "execution_count": null,
   "id": "7dcd4b36",
   "metadata": {},
   "outputs": [],
   "source": [
    "df.dropna(inplace=True, subset=['variable1','variable2'])\n",
    "#Se eliminan los datos en blanco "
   ]
  },
  {
   "cell_type": "code",
   "execution_count": null,
   "id": "1159be95",
   "metadata": {},
   "outputs": [],
   "source": [
    "df.drop(inplace=True, columns = [\"\",\"\",\"\"])\n",
    "#Se eliminan todas las columnas que no sean numericas, requisito para utilizar la funcion de correlaciones de pandas"
   ]
  },
  {
   "cell_type": "code",
   "execution_count": null,
   "id": "4a7db3f5",
   "metadata": {},
   "outputs": [],
   "source": [
    "df.corr()\n",
    "#Matriz de todas las correlaciones de las variables en el dataframe"
   ]
  },
  {
   "cell_type": "code",
   "execution_count": null,
   "id": "36023a1f",
   "metadata": {},
   "outputs": [],
   "source": [
    "df.drop(inplace=True, columns = [\"\"])\n",
    "#eliminar alguna columna que cree un error\n",
    "corr = round(df.corr(),3)\n",
    "#se redondean los valores de la matriz\n",
    "corr.style.backgroung_gradiente()\n",
    "#Muestra un degradado segun la intensidad de la correlacion\n"
   ]
  },
  {
   "cell_type": "code",
   "execution_count": null,
   "id": "9cdbc355",
   "metadata": {},
   "outputs": [],
   "source": [
    "#############################################################################################################################\n",
    "#TEST DE CHI CUADRADO"
   ]
  },
  {
   "cell_type": "code",
   "execution_count": null,
   "id": "f39a74f5",
   "metadata": {},
   "outputs": [],
   "source": [
    "np.random.seed(0)\n",
    "#Si alguien replica el codigo va a conseguir los mismos resultados\n",
    "df = df[df[\"Ciudades\"].isin([\"Cali\", \"Bogota\"])]\n",
    "#Crea un subset del dataframe, osea de todos los datos solo se van a ver las filas que cumplen la condicion especificada\n",
    "df = df.sample(frac=1)\n",
    "#Muestra aleatoria de los datos\n",
    "df = df[0:10000]\n",
    "#Elige la cantidad de filas con las que se quiere trabajar"
   ]
  },
  {
   "cell_type": "code",
   "execution_count": null,
   "id": "43b8281c",
   "metadata": {},
   "outputs": [],
   "source": [
    "df[\"Variable_nueva\"] = df[\"Variable1\"] > 30\n",
    "#Crea una nueva variable en el dataframe que será de tipo boleana (True, False) dependiendo de si cumple con la condicion\n",
    "\n",
    "Observados = pd.crosstab(index=df[\"Variable_nueva\"], columns=df[\"Variable2\"], margins=True)\n",
    "#Crea una tabla de contingencia o de frecuencias -> las columnas que queremos estudiar, esta tabla solo tiene una dimension\n",
    "#frecuencias de la variable2 segun su nombre y segun la Variable_Nueva y va a tener margenes (osea incluye totales)\n",
    "#Ejemplo\n",
    "\n",
    "df[\"Mucho_retraso\"] = df[\"Retraso\"] > 30\n",
    "Observados = pd.crosstab(index=df[\"Muchos retraso\"], columns=df[\"Destino\"], margins=True)\n",
    "#Esto crea una tabla que hace el conteo de cuantos vuelos tuvieron o no, mucho retraso, clasificados segun el destino al que se\n",
    "#dirigian, arrojando tambien el total de vuelos en cada destino (sin importar el valor de la variable mucho retraso)\n",
    "#y el total de vuelos que tuvieron o no, mucho retraso sin discriminar por destino"
   ]
  },
  {
   "cell_type": "code",
   "execution_count": 6,
   "id": "9f312234",
   "metadata": {},
   "outputs": [],
   "source": [
    "from scipy.stats import chi2_contingency\n",
    "#Para importar comando del Test"
   ]
  },
  {
   "cell_type": "code",
   "execution_count": null,
   "id": "5adeab4f",
   "metadata": {},
   "outputs": [],
   "source": [
    "test = chi2_contingency(Observados)\n",
    "#Se usa el comando del test sobre la tabla de frecuencias"
   ]
  },
  {
   "cell_type": "code",
   "execution_count": null,
   "id": "5f9f53d7",
   "metadata": {},
   "outputs": [],
   "source": [
    "test"
   ]
  },
  {
   "cell_type": "code",
   "execution_count": null,
   "id": "9512ea55",
   "metadata": {},
   "outputs": [],
   "source": [
    "esperados = pd.DataFrame(test[3])\n",
    "#Se convierte el resultado anterior en una tabla para obtener una mejor visualizacion "
   ]
  },
  {
   "cell_type": "code",
   "execution_count": null,
   "id": "5d5becba",
   "metadata": {},
   "outputs": [],
   "source": [
    "esperados"
   ]
  },
  {
   "cell_type": "code",
   "execution_count": null,
   "id": "c392a65a",
   "metadata": {},
   "outputs": [],
   "source": [
    "esperados_rel = round(esperados.apply(lambda r:r/len(df)*100,axis=1),2)\n",
    "#Tabla valores esperados relativos"
   ]
  },
  {
   "cell_type": "code",
   "execution_count": null,
   "id": "66b9db8d",
   "metadata": {},
   "outputs": [],
   "source": [
    "observados_rel = round(Observados.apply(lambda r:r/len(df)*100,axis=1),2)\n",
    "#Tabla valores esperados relativos"
   ]
  },
  {
   "cell_type": "code",
   "execution_count": null,
   "id": "e0652b2a",
   "metadata": {},
   "outputs": [],
   "source": [
    "esperados_rel"
   ]
  },
  {
   "cell_type": "code",
   "execution_count": null,
   "id": "07283c44",
   "metadata": {},
   "outputs": [],
   "source": [
    "observados_rel"
   ]
  },
  {
   "cell_type": "code",
   "execution_count": null,
   "id": "979e2784",
   "metadata": {},
   "outputs": [],
   "source": [
    "test[1]\n",
    "#Si el P-valor es menor a 0.05 entonces hay relacion entre las variables\n",
    "#De lo contrario se considera que no hay suficiente evidencia para decir que estan relacionadas"
   ]
  }
 ],
 "metadata": {
  "kernelspec": {
   "display_name": "Python 3",
   "language": "python",
   "name": "python3"
  },
  "language_info": {
   "codemirror_mode": {
    "name": "ipython",
    "version": 3
   },
   "file_extension": ".py",
   "mimetype": "text/x-python",
   "name": "python",
   "nbconvert_exporter": "python",
   "pygments_lexer": "ipython3",
   "version": "3.8.8"
  }
 },
 "nbformat": 4,
 "nbformat_minor": 5
}
