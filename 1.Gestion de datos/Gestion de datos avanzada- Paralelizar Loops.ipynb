{
 "cells": [
  {
   "cell_type": "code",
   "execution_count": 3,
   "id": "6fb3d734",
   "metadata": {},
   "outputs": [],
   "source": [
    "# -*- coding: utf-8 -*-"
   ]
  },
  {
   "cell_type": "code",
   "execution_count": 7,
   "id": "58792d96",
   "metadata": {},
   "outputs": [],
   "source": [
    "import pandas as pd\n",
    "import numpy as np\n",
    "from joblib import Parallel, delayed\n",
    "\n",
    "df = pd.read_csv(r\"C:\\Users\\user\\Downloads\\Educacion_Colombia.csv\",nrows=1000000)"
   ]
  },
  {
   "cell_type": "code",
   "execution_count": 8,
   "id": "d51611a9",
   "metadata": {
    "scrolled": true
   },
   "outputs": [
    {
     "data": {
      "text/plain": [
       "Index(['Time', 'Time Code', 'Country Name', 'Country Code',\n",
       "       'Nivel de instrucción, al menos ciclo inferior de la escuela secundaria completo, población de más de 25 años, mujeres (%) (acumulativo) [SE.SEC.CUAT.LO.FE.ZS]',\n",
       "       'Nivel de instrucción, al menos ciclo inferior de la escuela secundaria completo, población de más de 25 años, total (%) (acumulativo) [SE.SEC.CUAT.LO.ZS]',\n",
       "       'Nivel de instrucción, al menos ciclo superior de la escuela secundaria completo, población de más de 25 años, mujeres (%) (acumulativo) [SE.SEC.CUAT.UP.FE.ZS]',\n",
       "       'Nivel de instrucción, al menos ciclo inferior de la escuela secundaria completo, población de más de 25 años, varones (%) (acumulativo) [SE.SEC.CUAT.LO.MA.ZS]',\n",
       "       'Nivel de instrucción, al menos ciclo superior de la escuela secundaria completo, población de más de 25 años, total (%) (acumulativo) [SE.SEC.CUAT.UP.ZS]',\n",
       "       'Nivel de instrucción, al menos ciclo superior de la escuela secundaria completo, población de más de 25 años, varones (%) (acumulativo) [SE.SEC.CUAT.UP.MA.ZS]',\n",
       "       'Nivel de instrucción, al menos escuela de nivel posterior a la secundaria completa, población de más de 25 años, total (%) (acumulativo) [SE.SEC.CUAT.PO.ZS]',\n",
       "       'Nivel de instrucción, al menos escuela de nivel posterior a la secundaria completa, población de más de 25 años, mujeres (%) (acumulativo) [SE.SEC.CUAT.PO.FE.ZS]',\n",
       "       'Nivel de instrucción, al menos escuela de nivel posterior a la secundaria completa, población de más de 25 años, varones (%) (acumulativo) [SE.SEC.CUAT.PO.MA.ZS]',\n",
       "       'Nivel de instrucción, al menos escuela primaria completa, población de más de 25 años, mujeres (%) (acumulativo) [SE.PRM.CUAT.FE.ZS]',\n",
       "       'Nivel de instrucción, al menos escuela primaria completa, población de más de 25 años, varones (%) (acumulativo) [SE.PRM.CUAT.MA.ZS]',\n",
       "       'Nivel de instrucción, al menos escuela primaria completa, población de más de 25 años, total (%) (acumulativo) [SE.PRM.CUAT.ZS]',\n",
       "       'Nivel de instrucción, al menos escuela terciaria de ciclo corto finalizada, población de más de 25 años, mujeres (%) (acumulativo) [SE.TER.CUAT.ST.FE.ZS]',\n",
       "       'Nivel de instrucción, al menos escuela terciaria de ciclo corto finalizada, población de más de 25 años, varones (%) (acumulativo) [SE.TER.CUAT.ST.MA.ZS]',\n",
       "       'Nivel de instrucción, al menos escuela terciaria de ciclo corto finalizada, población de más de 25 años, total (%) (acumulativo) [SE.TER.CUAT.ST.ZS]',\n",
       "       'Nivel de instrucción, al menos nivel de doctorado o equivalente, población de más de 25 años, mujeres (%) (acumulativo) [SE.TER.CUAT.DO.FE.ZS]',\n",
       "       'Nivel de instrucción, al menos nivel de doctorado o equivalente, población de más de 25 años, varones (%) (acumulativo) [SE.TER.CUAT.DO.MA.ZS]',\n",
       "       'Nivel de instrucción, al menos nivel de doctorado o equivalente, población de más de 25 años, total (%) (acumulativo) [SE.TER.CUAT.DO.ZS]',\n",
       "       'Nivel de instrucción, al menos nivel de licenciatura o equivalente, población de más de 25 años, mujeres (%) (acumulativo) [SE.TER.CUAT.BA.FE.ZS]',\n",
       "       'Nivel de instrucción, al menos nivel de licenciatura o equivalente, población de más de 25 años, total (%) (acumulativo) [SE.TER.CUAT.BA.ZS]',\n",
       "       'Nivel de instrucción, al menos nivel de maestría o equivalente, población de más de 25 años, mujeres (%) (acumulativo) [SE.TER.CUAT.MS.FE.ZS]',\n",
       "       'Nivel de instrucción, al menos nivel de licenciatura o equivalente, población de más de 25 años, varones (%) (acumulativo) [SE.TER.CUAT.BA.MA.ZS]',\n",
       "       'Nivel de instrucción, al menos nivel de maestría o equivalente, población de más de 25 años, total (%) (acumulativo) [SE.TER.CUAT.MS.ZS]',\n",
       "       'Nivel de instrucción, al menos nivel de maestría o equivalente, población de más de 25 años, varones (%) (acumulativo) [SE.TER.CUAT.MS.MA.ZS]',\n",
       "       'Proporción de mujeres con respecto a varones de jóvenes alfabetizados (% de jóvenes entre 15 y 24 años de edad) [SE.ADT.1524.LT.FM.ZS]',\n",
       "       'Tasa de alfabetización, mujeres adultas (% de mujeres de 15 años o más) [SE.ADT.LITR.FE.ZS]',\n",
       "       'Tasa de alfabetización, mujeres jóvenes (% de mujeres entre 15 y 24 años) [SE.ADT.1524.LT.FE.ZS]',\n",
       "       'Tasa de alfabetización, total de jóvenes (% de personas entre 15 y 24 años) [SE.ADT.1524.LT.ZS]',\n",
       "       'Tasa de alfabetización, varones jóvenes (% de varones entre 15 y 24 años) [SE.ADT.1524.LT.MA.ZS]',\n",
       "       'Tasa de alfabetización, total de adultos (% de personas de 15 años o más) [SE.ADT.LITR.ZS]',\n",
       "       'Tasa de alfabetización, varones adultos (% de varones de 15 años o más) [SE.ADT.LITR.MA.ZS]',\n",
       "       'Tasa de finalización de la educación de nivel primario, mujeres (% del grupo etario correspondiente) [SE.PRM.CMPT.FE.ZS]',\n",
       "       'Tasa de finalización de la educación de nivel primario, varones (% del grupo etario correspondiente) [SE.PRM.CMPT.MA.ZS]',\n",
       "       'Tasa de finalización de la educación de nivel primario, total (% del grupo etario correspondiente) [SE.PRM.CMPT.ZS]',\n",
       "       'Tasa de finalización del ciclo inferior de la educación secundaria, mujeres (% del grupo etario pertinente) [SE.SEC.CMPT.LO.FE.ZS]',\n",
       "       'Tasa de finalización del ciclo inferior de la educación secundaria, varones (% del grupo etario pertinente) [SE.SEC.CMPT.LO.MA.ZS]',\n",
       "       'Tasa de finalización del ciclo inferior de la educación secundaria, total (% del grupo etario pertinente) [SE.SEC.CMPT.LO.ZS]'],\n",
       "      dtype='object')"
      ]
     },
     "execution_count": 8,
     "metadata": {},
     "output_type": "execute_result"
    }
   ],
   "source": [
    "df.columns\n"
   ]
  },
  {
   "cell_type": "code",
   "execution_count": 30,
   "id": "d1f9c799",
   "metadata": {},
   "outputs": [
    {
     "data": {
      "text/html": [
       "<div>\n",
       "<style scoped>\n",
       "    .dataframe tbody tr th:only-of-type {\n",
       "        vertical-align: middle;\n",
       "    }\n",
       "\n",
       "    .dataframe tbody tr th {\n",
       "        vertical-align: top;\n",
       "    }\n",
       "\n",
       "    .dataframe thead th {\n",
       "        text-align: right;\n",
       "    }\n",
       "</style>\n",
       "<table border=\"1\" class=\"dataframe\">\n",
       "  <thead>\n",
       "    <tr style=\"text-align: right;\">\n",
       "      <th></th>\n",
       "      <th>Time</th>\n",
       "      <th>Tasa de alfabetización, mujeres adultas (% de mujeres de 15 años o más) [SE.ADT.LITR.FE.ZS]</th>\n",
       "      <th>Tasa de alfabetización, mujeres jóvenes (% de mujeres entre 15 y 24 años) [SE.ADT.1524.LT.FE.ZS]</th>\n",
       "      <th>Tasa de alfabetización, total de jóvenes (% de personas entre 15 y 24 años) [SE.ADT.1524.LT.ZS]</th>\n",
       "      <th>Tasa de alfabetización, varones jóvenes (% de varones entre 15 y 24 años) [SE.ADT.1524.LT.MA.ZS]</th>\n",
       "    </tr>\n",
       "  </thead>\n",
       "  <tbody>\n",
       "    <tr>\n",
       "      <th>0</th>\n",
       "      <td>1990</td>\n",
       "      <td>..</td>\n",
       "      <td>..</td>\n",
       "      <td>..</td>\n",
       "      <td>..</td>\n",
       "    </tr>\n",
       "    <tr>\n",
       "      <th>1</th>\n",
       "      <td>2000</td>\n",
       "      <td>..</td>\n",
       "      <td>..</td>\n",
       "      <td>..</td>\n",
       "      <td>..</td>\n",
       "    </tr>\n",
       "    <tr>\n",
       "      <th>2</th>\n",
       "      <td>2011</td>\n",
       "      <td>93.6671295166016</td>\n",
       "      <td>98.7243423461914</td>\n",
       "      <td>98.2393798828125</td>\n",
       "      <td>97.7604675292969</td>\n",
       "    </tr>\n",
       "    <tr>\n",
       "      <th>3</th>\n",
       "      <td>2012</td>\n",
       "      <td>..</td>\n",
       "      <td>..</td>\n",
       "      <td>..</td>\n",
       "      <td>..</td>\n",
       "    </tr>\n",
       "    <tr>\n",
       "      <th>4</th>\n",
       "      <td>2013</td>\n",
       "      <td>..</td>\n",
       "      <td>..</td>\n",
       "      <td>..</td>\n",
       "      <td>..</td>\n",
       "    </tr>\n",
       "    <tr>\n",
       "      <th>5</th>\n",
       "      <td>2014</td>\n",
       "      <td>94.4846572875977</td>\n",
       "      <td>98.9728469848633</td>\n",
       "      <td>98.5409469604492</td>\n",
       "      <td>98.1067123413086</td>\n",
       "    </tr>\n",
       "    <tr>\n",
       "      <th>6</th>\n",
       "      <td>2015</td>\n",
       "      <td>94.4158172607422</td>\n",
       "      <td>98.9153366088867</td>\n",
       "      <td>98.5347290039063</td>\n",
       "      <td>98.1551818847656</td>\n",
       "    </tr>\n",
       "    <tr>\n",
       "      <th>7</th>\n",
       "      <td>2016</td>\n",
       "      <td>94.8902206420898</td>\n",
       "      <td>99.0252685546875</td>\n",
       "      <td>98.6683120727539</td>\n",
       "      <td>98.3120422363281</td>\n",
       "    </tr>\n",
       "    <tr>\n",
       "      <th>8</th>\n",
       "      <td>2017</td>\n",
       "      <td>..</td>\n",
       "      <td>..</td>\n",
       "      <td>..</td>\n",
       "      <td>..</td>\n",
       "    </tr>\n",
       "    <tr>\n",
       "      <th>9</th>\n",
       "      <td>2018</td>\n",
       "      <td>95.3189163208008</td>\n",
       "      <td>99.0696029663086</td>\n",
       "      <td>98.8516464233398</td>\n",
       "      <td>98.6338272094727</td>\n",
       "    </tr>\n",
       "  </tbody>\n",
       "</table>\n",
       "</div>"
      ],
      "text/plain": [
       "   Time  \\\n",
       "0  1990   \n",
       "1  2000   \n",
       "2  2011   \n",
       "3  2012   \n",
       "4  2013   \n",
       "5  2014   \n",
       "6  2015   \n",
       "7  2016   \n",
       "8  2017   \n",
       "9  2018   \n",
       "\n",
       "  Tasa de alfabetización, mujeres adultas (% de mujeres de 15 años o más) [SE.ADT.LITR.FE.ZS]  \\\n",
       "0                                                 ..                                            \n",
       "1                                                 ..                                            \n",
       "2                                   93.6671295166016                                            \n",
       "3                                                 ..                                            \n",
       "4                                                 ..                                            \n",
       "5                                   94.4846572875977                                            \n",
       "6                                   94.4158172607422                                            \n",
       "7                                   94.8902206420898                                            \n",
       "8                                                 ..                                            \n",
       "9                                   95.3189163208008                                            \n",
       "\n",
       "  Tasa de alfabetización, mujeres jóvenes (% de mujeres entre 15 y 24 años) [SE.ADT.1524.LT.FE.ZS]  \\\n",
       "0                                                 ..                                                 \n",
       "1                                                 ..                                                 \n",
       "2                                   98.7243423461914                                                 \n",
       "3                                                 ..                                                 \n",
       "4                                                 ..                                                 \n",
       "5                                   98.9728469848633                                                 \n",
       "6                                   98.9153366088867                                                 \n",
       "7                                   99.0252685546875                                                 \n",
       "8                                                 ..                                                 \n",
       "9                                   99.0696029663086                                                 \n",
       "\n",
       "  Tasa de alfabetización, total de jóvenes (% de personas entre 15 y 24 años) [SE.ADT.1524.LT.ZS]  \\\n",
       "0                                                 ..                                                \n",
       "1                                                 ..                                                \n",
       "2                                   98.2393798828125                                                \n",
       "3                                                 ..                                                \n",
       "4                                                 ..                                                \n",
       "5                                   98.5409469604492                                                \n",
       "6                                   98.5347290039063                                                \n",
       "7                                   98.6683120727539                                                \n",
       "8                                                 ..                                                \n",
       "9                                   98.8516464233398                                                \n",
       "\n",
       "  Tasa de alfabetización, varones jóvenes (% de varones entre 15 y 24 años) [SE.ADT.1524.LT.MA.ZS]  \n",
       "0                                                 ..                                                \n",
       "1                                                 ..                                                \n",
       "2                                   97.7604675292969                                                \n",
       "3                                                 ..                                                \n",
       "4                                                 ..                                                \n",
       "5                                   98.1067123413086                                                \n",
       "6                                   98.1551818847656                                                \n",
       "7                                   98.3120422363281                                                \n",
       "8                                                 ..                                                \n",
       "9                                   98.6338272094727                                                "
      ]
     },
     "execution_count": 30,
     "metadata": {},
     "output_type": "execute_result"
    }
   ],
   "source": [
    "df_sub = df[['Time','Tasa de alfabetización, mujeres adultas (% de mujeres de 15 años o más) [SE.ADT.LITR.FE.ZS]','Tasa de alfabetización, mujeres jóvenes (% de mujeres entre 15 y 24 años) [SE.ADT.1524.LT.FE.ZS]',\n",
    "       'Tasa de alfabetización, total de jóvenes (% de personas entre 15 y 24 años) [SE.ADT.1524.LT.ZS]',\n",
    "       'Tasa de alfabetización, varones jóvenes (% de varones entre 15 y 24 años) [SE.ADT.1524.LT.MA.ZS]']]\n",
    "df_sub.head(10)"
   ]
  },
  {
   "cell_type": "code",
   "execution_count": 36,
   "id": "7dcd4b36",
   "metadata": {},
   "outputs": [],
   "source": [
    "def minima_tasa_alfabetizacion(fila):\n",
    "    if not np.isnan(fila).any():\n",
    "        names = ['Time','Tasa de alfabetización, mujeres adultas (% de mujeres de 15 años o más) [SE.ADT.LITR.FE.ZS]','Tasa de alfabetización, mujeres jóvenes (% de mujeres entre 15 y 24 años) [SE.ADT.1524.LT.FE.ZS]',\n",
    "       'Tasa de alfabetización, total de jóvenes (% de personas entre 15 y 24 años) [SE.ADT.1524.LT.ZS]',\n",
    "       'Tasa de alfabetización, varones jóvenes (% de varones entre 15 y 24 años) [SE.ADT.1524.LT.MA.ZS]']\n",
    "        return names[fila.index(max(fila))]\n",
    "    else:\n",
    "        return \"None\""
   ]
  },
  {
   "cell_type": "code",
   "execution_count": 37,
   "id": "1159be95",
   "metadata": {},
   "outputs": [
    {
     "ename": "TypeError",
     "evalue": "ufunc 'isnan' not supported for the input types, and the inputs could not be safely coerced to any supported types according to the casting rule ''safe''",
     "output_type": "error",
     "traceback": [
      "\u001b[1;31m---------------------------------------------------------------------------\u001b[0m",
      "\u001b[1;31mTypeError\u001b[0m                                 Traceback (most recent call last)",
      "\u001b[1;32m<ipython-input-37-0860b0c75461>\u001b[0m in \u001b[0;36m<module>\u001b[1;34m\u001b[0m\n\u001b[0;32m      1\u001b[0m \u001b[0mresults\u001b[0m \u001b[1;33m=\u001b[0m \u001b[1;33m[\u001b[0m\u001b[1;33m]\u001b[0m\u001b[1;33m\u001b[0m\u001b[1;33m\u001b[0m\u001b[0m\n\u001b[0;32m      2\u001b[0m \u001b[1;32mfor\u001b[0m \u001b[0mfila\u001b[0m \u001b[1;32min\u001b[0m \u001b[0mdf_sub\u001b[0m\u001b[1;33m.\u001b[0m\u001b[0mvalues\u001b[0m\u001b[1;33m.\u001b[0m\u001b[0mtolist\u001b[0m\u001b[1;33m(\u001b[0m\u001b[1;33m)\u001b[0m\u001b[1;33m:\u001b[0m\u001b[1;33m\u001b[0m\u001b[1;33m\u001b[0m\u001b[0m\n\u001b[1;32m----> 3\u001b[1;33m     \u001b[0mresults\u001b[0m\u001b[1;33m.\u001b[0m\u001b[0mappend\u001b[0m\u001b[1;33m(\u001b[0m\u001b[0mminima_tasa_alfabetizacion\u001b[0m\u001b[1;33m(\u001b[0m\u001b[0mfila\u001b[0m\u001b[1;33m)\u001b[0m\u001b[1;33m)\u001b[0m\u001b[1;33m\u001b[0m\u001b[1;33m\u001b[0m\u001b[0m\n\u001b[0m",
      "\u001b[1;32m<ipython-input-36-58da60f8f95f>\u001b[0m in \u001b[0;36mminima_tasa_alfabetizacion\u001b[1;34m(fila)\u001b[0m\n\u001b[0;32m      1\u001b[0m \u001b[1;32mdef\u001b[0m \u001b[0mminima_tasa_alfabetizacion\u001b[0m\u001b[1;33m(\u001b[0m\u001b[0mfila\u001b[0m\u001b[1;33m)\u001b[0m\u001b[1;33m:\u001b[0m\u001b[1;33m\u001b[0m\u001b[1;33m\u001b[0m\u001b[0m\n\u001b[1;32m----> 2\u001b[1;33m     \u001b[1;32mif\u001b[0m \u001b[1;32mnot\u001b[0m \u001b[0mnp\u001b[0m\u001b[1;33m.\u001b[0m\u001b[0misnan\u001b[0m\u001b[1;33m(\u001b[0m\u001b[0mfila\u001b[0m\u001b[1;33m)\u001b[0m\u001b[1;33m.\u001b[0m\u001b[0many\u001b[0m\u001b[1;33m(\u001b[0m\u001b[1;33m)\u001b[0m\u001b[1;33m:\u001b[0m\u001b[1;33m\u001b[0m\u001b[1;33m\u001b[0m\u001b[0m\n\u001b[0m\u001b[0;32m      3\u001b[0m         names = ['Time','Tasa de alfabetización, mujeres adultas (% de mujeres de 15 años o más) [SE.ADT.LITR.FE.ZS]','Tasa de alfabetización, mujeres jóvenes (% de mujeres entre 15 y 24 años) [SE.ADT.1524.LT.FE.ZS]',\n\u001b[0;32m      4\u001b[0m        \u001b[1;34m'Tasa de alfabetización, total de jóvenes (% de personas entre 15 y 24 años) [SE.ADT.1524.LT.ZS]'\u001b[0m\u001b[1;33m,\u001b[0m\u001b[1;33m\u001b[0m\u001b[1;33m\u001b[0m\u001b[0m\n\u001b[0;32m      5\u001b[0m        'Tasa de alfabetización, varones jóvenes (% de varones entre 15 y 24 años) [SE.ADT.1524.LT.MA.ZS]']\n",
      "\u001b[1;31mTypeError\u001b[0m: ufunc 'isnan' not supported for the input types, and the inputs could not be safely coerced to any supported types according to the casting rule ''safe''"
     ]
    }
   ],
   "source": [
    "results = []\n",
    "for fila in df_sub.values.tolist():\n",
    "    results.append(minima_tasa_alfabetizacion(fila))\n",
    "#El codigo falla porque algunas de las variables son tring\n",
    "#tolist convierte los valores del dataframe a lista"
   ]
  },
  {
   "cell_type": "code",
   "execution_count": 38,
   "id": "4a7db3f5",
   "metadata": {},
   "outputs": [
    {
     "data": {
      "text/plain": [
       "[]"
      ]
     },
     "execution_count": 38,
     "metadata": {},
     "output_type": "execute_result"
    }
   ],
   "source": [
    "results\n",
    "#Si todas las variables fueran numericas, esto crearia una lista que muestra cual es la tasa maxima en cada fila cuando ninguno\n",
    "#de los elementos en  la fila es vacio\n"
   ]
  },
  {
   "cell_type": "code",
   "execution_count": null,
   "id": "36023a1f",
   "metadata": {},
   "outputs": [],
   "source": [
    "results = Parallel(n_jobs =2,backend = 'multiprocessing')(map(delayed(minima_tasa_alfabetizacion),df_sub.values.tolist()))\n",
    "#n:jobs es el numero de procesadores a utilizar\n",
    "results\n"
   ]
  },
  {
   "cell_type": "code",
   "execution_count": null,
   "id": "9cdbc355",
   "metadata": {},
   "outputs": [],
   "source": [
    "\n"
   ]
  },
  {
   "cell_type": "code",
   "execution_count": null,
   "id": "f39a74f5",
   "metadata": {},
   "outputs": [],
   "source": [
    "\n"
   ]
  },
  {
   "cell_type": "code",
   "execution_count": null,
   "id": "43b8281c",
   "metadata": {},
   "outputs": [],
   "source": [
    "\n"
   ]
  },
  {
   "cell_type": "code",
   "execution_count": 6,
   "id": "9f312234",
   "metadata": {},
   "outputs": [],
   "source": [
    "\n"
   ]
  },
  {
   "cell_type": "code",
   "execution_count": null,
   "id": "5adeab4f",
   "metadata": {},
   "outputs": [],
   "source": [
    "\n",
    "\n",
    "\n"
   ]
  },
  {
   "cell_type": "code",
   "execution_count": null,
   "id": "5f9f53d7",
   "metadata": {},
   "outputs": [],
   "source": [
    "\n"
   ]
  },
  {
   "cell_type": "code",
   "execution_count": null,
   "id": "9512ea55",
   "metadata": {},
   "outputs": [],
   "source": [
    "\n"
   ]
  }
 ],
 "metadata": {
  "kernelspec": {
   "display_name": "Python 3",
   "language": "python",
   "name": "python3"
  },
  "language_info": {
   "codemirror_mode": {
    "name": "ipython",
    "version": 3
   },
   "file_extension": ".py",
   "mimetype": "text/x-python",
   "name": "python",
   "nbconvert_exporter": "python",
   "pygments_lexer": "ipython3",
   "version": "3.8.8"
  }
 },
 "nbformat": 4,
 "nbformat_minor": 5
}
