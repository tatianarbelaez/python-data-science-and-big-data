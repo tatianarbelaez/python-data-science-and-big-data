{
 "cells": [
  {
   "cell_type": "code",
   "execution_count": 1,
   "id": "6fb3d734",
   "metadata": {},
   "outputs": [],
   "source": [
    "# -*- coding: utf-8 -*-\n",
    "import pandas as pd\n",
    "df_finance = pd.read_csv(r\"C:\\Users\\user\\Downloads\\catalogo_cf.csv\", encoding='iso-8859-1', nrows = 1000000)\n"
   ]
  },
  {
   "cell_type": "code",
   "execution_count": 6,
   "id": "58792d96",
   "metadata": {},
   "outputs": [
    {
     "data": {
      "text/plain": [
       "Index(['Nombre de la serie ', 'Número secuencial', 'Alias de la serie',\n",
       "       'Nombre del archivo con los valores de la serie',\n",
       "       'Descripción de la serie', 'Tipo de variable', 'Código de unidades',\n",
       "       'Exponente', 'Número de decimales',\n",
       "       'Descripción de unidades y exponente', 'Frecuencia de la serie',\n",
       "       'Fecha de la primera observación', 'Fecha de la última observación',\n",
       "       'Número de observaciones', 'Título de la serie', 'Fuente', 'Notas'],\n",
       "      dtype='object')"
      ]
     },
     "execution_count": 6,
     "metadata": {},
     "output_type": "execute_result"
    }
   ],
   "source": [
    "df_finance.columns\n"
   ]
  },
  {
   "cell_type": "code",
   "execution_count": 10,
   "id": "d51611a9",
   "metadata": {
    "scrolled": true
   },
   "outputs": [
    {
     "data": {
      "text/plain": [
       "Nombre de la serie \n",
       "DMZ10A0000$.Q                      TRIMESTRAL\n",
       "DMZ10A0000%.Q                      TRIMESTRAL\n",
       "DMZ10A0000A.Q                      TRIMESTRAL\n",
       "DMZ10A0000B.Q                      TRIMESTRAL\n",
       "DMZ10A0000C.Q                      TRIMESTRAL\n",
       "                                      ...    \n",
       "DSPC102016VP70000_ES1_RS2_TSC.T    TRIMESTRAL\n",
       "DSPC102016VP71000_ES1_RS2_TSC.T    TRIMESTRAL\n",
       "DSPC102016VP72000_ES1_RS2_TSC.T    TRIMESTRAL\n",
       "DSPC102016VP72100_ES1_RS2_TSC.T    TRIMESTRAL\n",
       "DSPC102016VP72200_ES1_RS2_TSC.T    TRIMESTRAL\n",
       "Name: Frecuencia de la serie, Length: 2807, dtype: object"
      ]
     },
     "execution_count": 10,
     "metadata": {},
     "output_type": "execute_result"
    }
   ],
   "source": [
    "df_finance.groupby(by = 'Nombre de la serie ')['Frecuencia de la serie'].max()\n",
    "#Agrupa la base por nombre de la serie y luego toma el maximo frecuencia de la serie para cada nombre de serie y lo muestra"
   ]
  },
  {
   "cell_type": "code",
   "execution_count": 12,
   "id": "d1f9c799",
   "metadata": {},
   "outputs": [
    {
     "data": {
      "text/plain": [
       "Nombre de la serie \n",
       "DMZ10A0000$.Q                      2\n",
       "DMZ10A0000%.Q                      1\n",
       "DMZ10A0000A.Q                      2\n",
       "DMZ10A0000B.Q                      1\n",
       "DMZ10A0000C.Q                      1\n",
       "                                  ..\n",
       "DSPC102016VP70000_ES1_RS2_TSC.T    1\n",
       "DSPC102016VP71000_ES1_RS2_TSC.T    1\n",
       "DSPC102016VP72000_ES1_RS2_TSC.T    1\n",
       "DSPC102016VP72100_ES1_RS2_TSC.T    1\n",
       "DSPC102016VP72200_ES1_RS2_TSC.T    1\n",
       "Name: Frecuencia de la serie, Length: 2807, dtype: int64"
      ]
     },
     "execution_count": 12,
     "metadata": {},
     "output_type": "execute_result"
    }
   ],
   "source": [
    "\n",
    "df_finance.groupby(by = 'Nombre de la serie ')['Frecuencia de la serie'].count()\n",
    "#Resumen estadistico de la columna frecuencia de la serie segun los nombres de la serie\n"
   ]
  },
  {
   "cell_type": "code",
   "execution_count": null,
   "id": "7dcd4b36",
   "metadata": {},
   "outputs": [],
   "source": [
    "df_finance.groupby(by = 'Nombre de la serie ')['Frecuencia de la serie'].mean()\n",
    "#Si quisiera saber el promedio de frecuencia de la serie por nombre de la serie, aunque en este caso no funciona porque la frecuencia no es numerica\n",
    "df_finance.groupby(by = 'Nombre de la serie ')['Frecuencia de la serie'].min()\n",
    "df_finance.groupby(by = 'Nombre de la serie ')['Frecuencia de la serie'].describe()\n",
    "#Resumen estadistico de la columna frecuencia de la serie segun los nombres de la serie"
   ]
  },
  {
   "cell_type": "code",
   "execution_count": 13,
   "id": "4a7db3f5",
   "metadata": {},
   "outputs": [
    {
     "name": "stderr",
     "output_type": "stream",
     "text": [
      "<ipython-input-13-5b3cbe9e42b9>:1: FutureWarning: Indexing with multiple keys (implicitly converted to a tuple of keys) will be deprecated, use a list instead.\n",
      "  df_finance.groupby(by = 'Nombre de la serie ')['Frecuencia de la serie', 'Fecha de la primera observación'].count()\n"
     ]
    },
    {
     "data": {
      "text/html": [
       "<div>\n",
       "<style scoped>\n",
       "    .dataframe tbody tr th:only-of-type {\n",
       "        vertical-align: middle;\n",
       "    }\n",
       "\n",
       "    .dataframe tbody tr th {\n",
       "        vertical-align: top;\n",
       "    }\n",
       "\n",
       "    .dataframe thead th {\n",
       "        text-align: right;\n",
       "    }\n",
       "</style>\n",
       "<table border=\"1\" class=\"dataframe\">\n",
       "  <thead>\n",
       "    <tr style=\"text-align: right;\">\n",
       "      <th></th>\n",
       "      <th>Frecuencia de la serie</th>\n",
       "      <th>Fecha de la primera observación</th>\n",
       "    </tr>\n",
       "    <tr>\n",
       "      <th>Nombre de la serie</th>\n",
       "      <th></th>\n",
       "      <th></th>\n",
       "    </tr>\n",
       "  </thead>\n",
       "  <tbody>\n",
       "    <tr>\n",
       "      <th>DMZ10A0000$.Q</th>\n",
       "      <td>2</td>\n",
       "      <td>2</td>\n",
       "    </tr>\n",
       "    <tr>\n",
       "      <th>DMZ10A0000%.Q</th>\n",
       "      <td>1</td>\n",
       "      <td>1</td>\n",
       "    </tr>\n",
       "    <tr>\n",
       "      <th>DMZ10A0000A.Q</th>\n",
       "      <td>2</td>\n",
       "      <td>2</td>\n",
       "    </tr>\n",
       "    <tr>\n",
       "      <th>DMZ10A0000B.Q</th>\n",
       "      <td>1</td>\n",
       "      <td>1</td>\n",
       "    </tr>\n",
       "    <tr>\n",
       "      <th>DMZ10A0000C.Q</th>\n",
       "      <td>1</td>\n",
       "      <td>1</td>\n",
       "    </tr>\n",
       "    <tr>\n",
       "      <th>...</th>\n",
       "      <td>...</td>\n",
       "      <td>...</td>\n",
       "    </tr>\n",
       "    <tr>\n",
       "      <th>DSPC102016VP70000_ES1_RS2_TSC.T</th>\n",
       "      <td>1</td>\n",
       "      <td>1</td>\n",
       "    </tr>\n",
       "    <tr>\n",
       "      <th>DSPC102016VP71000_ES1_RS2_TSC.T</th>\n",
       "      <td>1</td>\n",
       "      <td>1</td>\n",
       "    </tr>\n",
       "    <tr>\n",
       "      <th>DSPC102016VP72000_ES1_RS2_TSC.T</th>\n",
       "      <td>1</td>\n",
       "      <td>1</td>\n",
       "    </tr>\n",
       "    <tr>\n",
       "      <th>DSPC102016VP72100_ES1_RS2_TSC.T</th>\n",
       "      <td>1</td>\n",
       "      <td>1</td>\n",
       "    </tr>\n",
       "    <tr>\n",
       "      <th>DSPC102016VP72200_ES1_RS2_TSC.T</th>\n",
       "      <td>1</td>\n",
       "      <td>1</td>\n",
       "    </tr>\n",
       "  </tbody>\n",
       "</table>\n",
       "<p>2807 rows × 2 columns</p>\n",
       "</div>"
      ],
      "text/plain": [
       "                                 Frecuencia de la serie  \\\n",
       "Nombre de la serie                                        \n",
       "DMZ10A0000$.Q                                         2   \n",
       "DMZ10A0000%.Q                                         1   \n",
       "DMZ10A0000A.Q                                         2   \n",
       "DMZ10A0000B.Q                                         1   \n",
       "DMZ10A0000C.Q                                         1   \n",
       "...                                                 ...   \n",
       "DSPC102016VP70000_ES1_RS2_TSC.T                       1   \n",
       "DSPC102016VP71000_ES1_RS2_TSC.T                       1   \n",
       "DSPC102016VP72000_ES1_RS2_TSC.T                       1   \n",
       "DSPC102016VP72100_ES1_RS2_TSC.T                       1   \n",
       "DSPC102016VP72200_ES1_RS2_TSC.T                       1   \n",
       "\n",
       "                                 Fecha de la primera observación  \n",
       "Nombre de la serie                                                \n",
       "DMZ10A0000$.Q                                                  2  \n",
       "DMZ10A0000%.Q                                                  1  \n",
       "DMZ10A0000A.Q                                                  2  \n",
       "DMZ10A0000B.Q                                                  1  \n",
       "DMZ10A0000C.Q                                                  1  \n",
       "...                                                          ...  \n",
       "DSPC102016VP70000_ES1_RS2_TSC.T                                1  \n",
       "DSPC102016VP71000_ES1_RS2_TSC.T                                1  \n",
       "DSPC102016VP72000_ES1_RS2_TSC.T                                1  \n",
       "DSPC102016VP72100_ES1_RS2_TSC.T                                1  \n",
       "DSPC102016VP72200_ES1_RS2_TSC.T                                1  \n",
       "\n",
       "[2807 rows x 2 columns]"
      ]
     },
     "execution_count": 13,
     "metadata": {},
     "output_type": "execute_result"
    }
   ],
   "source": [
    "df_finance.groupby(by = 'Nombre de la serie ')['Frecuencia de la serie', 'Fecha de la primera observación'].count()\n",
    "#Muestra el conteo de frecuencia de la serie y la fecha de la primera observacion para cada nombre de la serie"
   ]
  },
  {
   "cell_type": "code",
   "execution_count": 14,
   "id": "36023a1f",
   "metadata": {},
   "outputs": [
    {
     "data": {
      "text/plain": [
       "Nombre de la serie               Número secuencial\n",
       "DMZ10A0000$.Q                    2208560              2\n",
       "DMZ10A0000%.Q                    2208561              1\n",
       "DMZ10A0000A.Q                    2208562              2\n",
       "DMZ10A0000B.Q                    2208563              1\n",
       "DMZ10A0000C.Q                    2208564              1\n",
       "                                                     ..\n",
       "DSPC102016VP70000_ES1_RS2_TSC.T  3778142              1\n",
       "DSPC102016VP71000_ES1_RS2_TSC.T  3778144              1\n",
       "DSPC102016VP72000_ES1_RS2_TSC.T  3778146              1\n",
       "DSPC102016VP72100_ES1_RS2_TSC.T  3778148              1\n",
       "DSPC102016VP72200_ES1_RS2_TSC.T  3778150              1\n",
       "Name: Frecuencia de la serie, Length: 2807, dtype: int64"
      ]
     },
     "execution_count": 14,
     "metadata": {},
     "output_type": "execute_result"
    }
   ],
   "source": [
    "df_finance.groupby(by = ['Nombre de la serie ', 'Número secuencial'])['Frecuencia de la serie'].count()"
   ]
  },
  {
   "cell_type": "code",
   "execution_count": 17,
   "id": "9cdbc355",
   "metadata": {},
   "outputs": [],
   "source": [
    "df_finance_nombre_numero = df_finance.groupby(by = ['Nombre de la serie ', 'Número secuencial'])['Frecuencia de la serie']"
   ]
  },
  {
   "cell_type": "code",
   "execution_count": 18,
   "id": "f39a74f5",
   "metadata": {},
   "outputs": [
    {
     "data": {
      "text/plain": [
       "Nombre de la serie               Número secuencial\n",
       "DMZ10A0000$.Q                    2208560              2\n",
       "DMZ10A0000%.Q                    2208561              1\n",
       "DMZ10A0000A.Q                    2208562              2\n",
       "DMZ10A0000B.Q                    2208563              1\n",
       "DMZ10A0000C.Q                    2208564              1\n",
       "                                                     ..\n",
       "DSPC102016VP70000_ES1_RS2_TSC.T  3778142              1\n",
       "DSPC102016VP71000_ES1_RS2_TSC.T  3778144              1\n",
       "DSPC102016VP72000_ES1_RS2_TSC.T  3778146              1\n",
       "DSPC102016VP72100_ES1_RS2_TSC.T  3778148              1\n",
       "DSPC102016VP72200_ES1_RS2_TSC.T  3778150              1\n",
       "Name: Frecuencia de la serie, Length: 2807, dtype: int64"
      ]
     },
     "execution_count": 18,
     "metadata": {},
     "output_type": "execute_result"
    }
   ],
   "source": [
    "df_finance_nombre_numero.count()"
   ]
  },
  {
   "cell_type": "code",
   "execution_count": null,
   "id": "43b8281c",
   "metadata": {},
   "outputs": [],
   "source": []
  },
  {
   "cell_type": "code",
   "execution_count": null,
   "id": "9f312234",
   "metadata": {},
   "outputs": [],
   "source": []
  }
 ],
 "metadata": {
  "kernelspec": {
   "display_name": "Python 3",
   "language": "python",
   "name": "python3"
  },
  "language_info": {
   "codemirror_mode": {
    "name": "ipython",
    "version": 3
   },
   "file_extension": ".py",
   "mimetype": "text/x-python",
   "name": "python",
   "nbconvert_exporter": "python",
   "pygments_lexer": "ipython3",
   "version": "3.8.8"
  }
 },
 "nbformat": 4,
 "nbformat_minor": 5
}
