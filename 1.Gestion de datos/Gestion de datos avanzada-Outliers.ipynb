{
 "cells": [
  {
   "cell_type": "code",
   "execution_count": 3,
   "id": "6fb3d734",
   "metadata": {},
   "outputs": [],
   "source": [
    "# -*- coding: utf-8 -*-"
   ]
  },
  {
   "cell_type": "code",
   "execution_count": 4,
   "id": "58792d96",
   "metadata": {},
   "outputs": [],
   "source": [
    "import pandas as pd\n",
    "import numpy as np\n",
    "df = pd.read_csv(r\"C:\\Users\\user\\Downloads\\Educacion Colombia.csv\",nrows=100000)"
   ]
  },
  {
   "cell_type": "code",
   "execution_count": null,
   "id": "d51611a9",
   "metadata": {
    "scrolled": true
   },
   "outputs": [],
   "source": [
    "x = df[\"Variable1\"].dropna()\n",
    "#Elegimos una columna y eliminamos todos los datos faltantes--> el dataframe queda con solo esos datos"
   ]
  },
  {
   "cell_type": "code",
   "execution_count": null,
   "id": "d1f9c799",
   "metadata": {},
   "outputs": [],
   "source": [
    "Q1 = np.percentile(x,25)\n",
    "Q3 = np.percentile(x,75)\n",
    "rango_intercuartil = Q3 - Q1\n",
    "#cuartiles 1 y 3, el cuartil 2 es la mediana"
   ]
  },
  {
   "cell_type": "code",
   "execution_count": null,
   "id": "7dcd4b36",
   "metadata": {},
   "outputs": [],
   "source": [
    "umbral_superior = Q3 + 1.5*rango_intercuartil\n",
    "umbral_inferior = Q1 - 1.5*rango_intercuartil\n",
    "#Los valores que esten por fuera del rango [umbral_inferior:umbral_superior] se consideran outliers o datos extremos"
   ]
  },
  {
   "cell_type": "code",
   "execution_count": null,
   "id": "1159be95",
   "metadata": {},
   "outputs": [],
   "source": [
    "np.mean(x > umbral_superior)\n",
    "np.mean(x < umbral_inferior)\n",
    "#Genera el porcentaje de datos que esta outlier por arriba o por debajo"
   ]
  },
  {
   "cell_type": "code",
   "execution_count": 1,
   "id": "4a7db3f5",
   "metadata": {},
   "outputs": [],
   "source": [
    "from sklearn.covariance import EllipticEnvelope"
   ]
  },
  {
   "cell_type": "code",
   "execution_count": null,
   "id": "36023a1f",
   "metadata": {},
   "outputs": [],
   "source": [
    "outliers = EllipticEnvelope(contamination = .01)\n",
    "#La funcion crea un modelo que selecciona un 1% de los datos que considere que estan muy alejados"
   ]
  },
  {
   "cell_type": "code",
   "execution_count": null,
   "id": "9cdbc355",
   "metadata": {},
   "outputs": [],
   "source": [
    "var_list = [\"Variable1\", \"Variable2\", \"Variablek\"]\n",
    "#Las variables en las que queremos usar el estudio de outliers, son cuantitativas y con distibucion normal"
   ]
  },
  {
   "cell_type": "code",
   "execution_count": null,
   "id": "f39a74f5",
   "metadata": {},
   "outputs": [],
   "source": [
    "x = np.array(df.loc[:var_list].dropna())\n",
    "#Creo una variable en la que todas las columnas en la lista var_list se les elimina las filas en blanco"
   ]
  },
  {
   "cell_type": "code",
   "execution_count": null,
   "id": "43b8281c",
   "metadata": {},
   "outputs": [],
   "source": [
    "outliers.fit(x)\n",
    "#Entrena el modelo propuesto con los datos que se quieren estudiar"
   ]
  },
  {
   "cell_type": "code",
   "execution_count": 6,
   "id": "9f312234",
   "metadata": {},
   "outputs": [],
   "source": [
    "prediccion_outlier = outliers.predict(x)\n",
    "#Hace la prediccion de los datos segun el modelo"
   ]
  },
  {
   "cell_type": "code",
   "execution_count": null,
   "id": "5adeab4f",
   "metadata": {},
   "outputs": [],
   "source": [
    "prediccion_outlier\n",
    "#Visualizacion del array con las predicciones--> es outlier cuando es -1"
   ]
  },
  {
   "cell_type": "code",
   "execution_count": null,
   "id": "5f9f53d7",
   "metadata": {},
   "outputs": [],
   "source": [
    "elips_outliers = np.where(prediccion_outlier == -1)[0]"
   ]
  },
  {
   "cell_type": "code",
   "execution_count": null,
   "id": "9512ea55",
   "metadata": {},
   "outputs": [],
   "source": [
    "elips_outliers\n",
    "#Se visualizan los indices de todos los datos que son outliers"
   ]
  }
 ],
 "metadata": {
  "kernelspec": {
   "display_name": "Python 3",
   "language": "python",
   "name": "python3"
  },
  "language_info": {
   "codemirror_mode": {
    "name": "ipython",
    "version": 3
   },
   "file_extension": ".py",
   "mimetype": "text/x-python",
   "name": "python",
   "nbconvert_exporter": "python",
   "pygments_lexer": "ipython3",
   "version": "3.8.8"
  }
 },
 "nbformat": 4,
 "nbformat_minor": 5
}
