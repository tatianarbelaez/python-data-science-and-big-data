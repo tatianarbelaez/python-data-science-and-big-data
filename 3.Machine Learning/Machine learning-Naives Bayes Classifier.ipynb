{
 "cells": [
  {
   "cell_type": "code",
   "execution_count": null,
   "id": "6fb3d734",
   "metadata": {},
   "outputs": [],
   "source": [
    "# -*- coding: utf-8 -*-\n",
    "\n",
    "#Naives Bayes"
   ]
  },
  {
   "cell_type": "code",
   "execution_count": 1,
   "id": "58792d96",
   "metadata": {
    "scrolled": true
   },
   "outputs": [],
   "source": [
    "from sklearn.naive_bayes import BernoulliNB\n",
    "from sklearn.naive_bayes import MultinomialNB\n",
    "#Bernoulli y multinomial se usan para analisis textual--> Sirve cuando tenemos categoricas\n",
    "from sklearn.naive_bayes import GaussianNB\n",
    "from sklearn.metrics import confusion_matrix\n",
    "import pandas as pd\n",
    "import numpy as np\n",
    "\n",
    "df = pd.read_csv(r\"C:\\Users\\user\\Documents\\PYTHON\\Python data science y big data\\Datos\\Indicators_of_Health_Insurance_Coverage.csv\",nrows=1e5)\n",
    "df = df.sample(frac=1)\n",
    "df = df.head(500000)"
   ]
  },
  {
   "cell_type": "code",
   "execution_count": 2,
   "id": "d51611a9",
   "metadata": {
    "scrolled": true
   },
   "outputs": [],
   "source": [
    "df = df.dropna(subset=['Value'])"
   ]
  },
  {
   "cell_type": "code",
   "execution_count": 3,
   "id": "4a7db3f5",
   "metadata": {},
   "outputs": [],
   "source": [
    "Y = df['Value']>0"
   ]
  },
  {
   "cell_type": "code",
   "execution_count": 4,
   "id": "59ffc61d",
   "metadata": {},
   "outputs": [],
   "source": [
    "X = pd.get_dummies(data=df[['Group','Subgroup','State']])"
   ]
  },
  {
   "cell_type": "code",
   "execution_count": 5,
   "id": "d39248e6",
   "metadata": {},
   "outputs": [
    {
     "data": {
      "text/html": [
       "<div>\n",
       "<style scoped>\n",
       "    .dataframe tbody tr th:only-of-type {\n",
       "        vertical-align: middle;\n",
       "    }\n",
       "\n",
       "    .dataframe tbody tr th {\n",
       "        vertical-align: top;\n",
       "    }\n",
       "\n",
       "    .dataframe thead th {\n",
       "        text-align: right;\n",
       "    }\n",
       "</style>\n",
       "<table border=\"1\" class=\"dataframe\">\n",
       "  <thead>\n",
       "    <tr style=\"text-align: right;\">\n",
       "      <th></th>\n",
       "      <th>Group_By Age</th>\n",
       "      <th>Group_By Disability status</th>\n",
       "      <th>Group_By Education</th>\n",
       "      <th>Group_By Gender identity</th>\n",
       "      <th>Group_By Race/Hispanic ethnicity</th>\n",
       "      <th>Group_By Sex</th>\n",
       "      <th>Group_By Sexual orientation</th>\n",
       "      <th>Group_By State</th>\n",
       "      <th>Group_National Estimate</th>\n",
       "      <th>Subgroup_18 - 24 years</th>\n",
       "      <th>...</th>\n",
       "      <th>State_Tennessee</th>\n",
       "      <th>State_Texas</th>\n",
       "      <th>State_United States</th>\n",
       "      <th>State_Utah</th>\n",
       "      <th>State_Vermont</th>\n",
       "      <th>State_Virginia</th>\n",
       "      <th>State_Washington</th>\n",
       "      <th>State_West Virginia</th>\n",
       "      <th>State_Wisconsin</th>\n",
       "      <th>State_Wyoming</th>\n",
       "    </tr>\n",
       "  </thead>\n",
       "  <tbody>\n",
       "    <tr>\n",
       "      <th>3479</th>\n",
       "      <td>0</td>\n",
       "      <td>0</td>\n",
       "      <td>1</td>\n",
       "      <td>0</td>\n",
       "      <td>0</td>\n",
       "      <td>0</td>\n",
       "      <td>0</td>\n",
       "      <td>0</td>\n",
       "      <td>0</td>\n",
       "      <td>0</td>\n",
       "      <td>...</td>\n",
       "      <td>0</td>\n",
       "      <td>0</td>\n",
       "      <td>1</td>\n",
       "      <td>0</td>\n",
       "      <td>0</td>\n",
       "      <td>0</td>\n",
       "      <td>0</td>\n",
       "      <td>0</td>\n",
       "      <td>0</td>\n",
       "      <td>0</td>\n",
       "    </tr>\n",
       "    <tr>\n",
       "      <th>3203</th>\n",
       "      <td>0</td>\n",
       "      <td>0</td>\n",
       "      <td>0</td>\n",
       "      <td>0</td>\n",
       "      <td>0</td>\n",
       "      <td>1</td>\n",
       "      <td>0</td>\n",
       "      <td>0</td>\n",
       "      <td>0</td>\n",
       "      <td>0</td>\n",
       "      <td>...</td>\n",
       "      <td>0</td>\n",
       "      <td>0</td>\n",
       "      <td>1</td>\n",
       "      <td>0</td>\n",
       "      <td>0</td>\n",
       "      <td>0</td>\n",
       "      <td>0</td>\n",
       "      <td>0</td>\n",
       "      <td>0</td>\n",
       "      <td>0</td>\n",
       "    </tr>\n",
       "    <tr>\n",
       "      <th>7689</th>\n",
       "      <td>0</td>\n",
       "      <td>0</td>\n",
       "      <td>0</td>\n",
       "      <td>0</td>\n",
       "      <td>0</td>\n",
       "      <td>0</td>\n",
       "      <td>0</td>\n",
       "      <td>1</td>\n",
       "      <td>0</td>\n",
       "      <td>0</td>\n",
       "      <td>...</td>\n",
       "      <td>0</td>\n",
       "      <td>0</td>\n",
       "      <td>0</td>\n",
       "      <td>0</td>\n",
       "      <td>0</td>\n",
       "      <td>0</td>\n",
       "      <td>0</td>\n",
       "      <td>1</td>\n",
       "      <td>0</td>\n",
       "      <td>0</td>\n",
       "    </tr>\n",
       "    <tr>\n",
       "      <th>280</th>\n",
       "      <td>0</td>\n",
       "      <td>0</td>\n",
       "      <td>1</td>\n",
       "      <td>0</td>\n",
       "      <td>0</td>\n",
       "      <td>0</td>\n",
       "      <td>0</td>\n",
       "      <td>0</td>\n",
       "      <td>0</td>\n",
       "      <td>0</td>\n",
       "      <td>...</td>\n",
       "      <td>0</td>\n",
       "      <td>0</td>\n",
       "      <td>1</td>\n",
       "      <td>0</td>\n",
       "      <td>0</td>\n",
       "      <td>0</td>\n",
       "      <td>0</td>\n",
       "      <td>0</td>\n",
       "      <td>0</td>\n",
       "      <td>0</td>\n",
       "    </tr>\n",
       "    <tr>\n",
       "      <th>3876</th>\n",
       "      <td>0</td>\n",
       "      <td>0</td>\n",
       "      <td>0</td>\n",
       "      <td>0</td>\n",
       "      <td>1</td>\n",
       "      <td>0</td>\n",
       "      <td>0</td>\n",
       "      <td>0</td>\n",
       "      <td>0</td>\n",
       "      <td>0</td>\n",
       "      <td>...</td>\n",
       "      <td>0</td>\n",
       "      <td>0</td>\n",
       "      <td>1</td>\n",
       "      <td>0</td>\n",
       "      <td>0</td>\n",
       "      <td>0</td>\n",
       "      <td>0</td>\n",
       "      <td>0</td>\n",
       "      <td>0</td>\n",
       "      <td>0</td>\n",
       "    </tr>\n",
       "  </tbody>\n",
       "</table>\n",
       "<p>5 rows × 136 columns</p>\n",
       "</div>"
      ],
      "text/plain": [
       "      Group_By Age  Group_By Disability status  Group_By Education  \\\n",
       "3479             0                           0                   1   \n",
       "3203             0                           0                   0   \n",
       "7689             0                           0                   0   \n",
       "280              0                           0                   1   \n",
       "3876             0                           0                   0   \n",
       "\n",
       "      Group_By Gender identity  Group_By Race/Hispanic ethnicity  \\\n",
       "3479                         0                                 0   \n",
       "3203                         0                                 0   \n",
       "7689                         0                                 0   \n",
       "280                          0                                 0   \n",
       "3876                         0                                 1   \n",
       "\n",
       "      Group_By Sex  Group_By Sexual orientation  Group_By State  \\\n",
       "3479             0                            0               0   \n",
       "3203             1                            0               0   \n",
       "7689             0                            0               1   \n",
       "280              0                            0               0   \n",
       "3876             0                            0               0   \n",
       "\n",
       "      Group_National Estimate  Subgroup_18 - 24 years  ...  State_Tennessee  \\\n",
       "3479                        0                       0  ...                0   \n",
       "3203                        0                       0  ...                0   \n",
       "7689                        0                       0  ...                0   \n",
       "280                         0                       0  ...                0   \n",
       "3876                        0                       0  ...                0   \n",
       "\n",
       "      State_Texas  State_United States  State_Utah  State_Vermont  \\\n",
       "3479            0                    1           0              0   \n",
       "3203            0                    1           0              0   \n",
       "7689            0                    0           0              0   \n",
       "280             0                    1           0              0   \n",
       "3876            0                    1           0              0   \n",
       "\n",
       "      State_Virginia  State_Washington  State_West Virginia  State_Wisconsin  \\\n",
       "3479               0                 0                    0                0   \n",
       "3203               0                 0                    0                0   \n",
       "7689               0                 0                    1                0   \n",
       "280                0                 0                    0                0   \n",
       "3876               0                 0                    0                0   \n",
       "\n",
       "      State_Wyoming  \n",
       "3479              0  \n",
       "3203              0  \n",
       "7689              0  \n",
       "280               0  \n",
       "3876              0  \n",
       "\n",
       "[5 rows x 136 columns]"
      ]
     },
     "execution_count": 5,
     "metadata": {},
     "output_type": "execute_result"
    }
   ],
   "source": [
    "X.head()"
   ]
  },
  {
   "cell_type": "code",
   "execution_count": 6,
   "id": "f39a74f5",
   "metadata": {},
   "outputs": [],
   "source": [
    "clf = BernoulliNB()\n",
    "#para cambiar parametros del modelo dentro del parentesis, de lo contrario lo hace con parametros por default\n",
    "clf.fit(X,Y)\n",
    "Y_pred = clf.predict(X)"
   ]
  },
  {
   "cell_type": "code",
   "execution_count": 7,
   "id": "43b8281c",
   "metadata": {},
   "outputs": [
    {
     "data": {
      "text/plain": [
       "1.0"
      ]
     },
     "execution_count": 7,
     "metadata": {},
     "output_type": "execute_result"
    }
   ],
   "source": [
    "np.mean(Y==Y_pred)\n",
    "#Este deberia ser mucho mayor que 1-np.mean(Y), ya que de no ser asi, significa que las variables escogidas no tienen la \n",
    "#info suficiente para ser explicativas"
   ]
  },
  {
   "cell_type": "code",
   "execution_count": 8,
   "id": "53fe102d",
   "metadata": {},
   "outputs": [
    {
     "data": {
      "text/plain": [
       "0.0"
      ]
     },
     "execution_count": 8,
     "metadata": {},
     "output_type": "execute_result"
    }
   ],
   "source": [
    "1-np.mean(Y)"
   ]
  },
  {
   "cell_type": "code",
   "execution_count": 9,
   "id": "9f312234",
   "metadata": {},
   "outputs": [],
   "source": [
    "X = df[['Low CI','High CI']]\n",
    "clf = GaussianNB()\n",
    "clf.fit(X,Y)\n",
    "Y_pred = clf.predict(X)"
   ]
  },
  {
   "cell_type": "code",
   "execution_count": 10,
   "id": "5f9f53d7",
   "metadata": {
    "scrolled": true
   },
   "outputs": [
    {
     "data": {
      "text/plain": [
       "1.0"
      ]
     },
     "execution_count": 10,
     "metadata": {},
     "output_type": "execute_result"
    }
   ],
   "source": [
    "np.mean(Y==Y_pred)"
   ]
  },
  {
   "cell_type": "code",
   "execution_count": null,
   "id": "9512ea55",
   "metadata": {},
   "outputs": [],
   "source": []
  },
  {
   "cell_type": "code",
   "execution_count": null,
   "id": "269f5047",
   "metadata": {},
   "outputs": [],
   "source": []
  },
  {
   "cell_type": "code",
   "execution_count": null,
   "id": "5f325fd2",
   "metadata": {},
   "outputs": [],
   "source": []
  },
  {
   "cell_type": "code",
   "execution_count": null,
   "id": "caa6bfe9",
   "metadata": {},
   "outputs": [],
   "source": []
  }
 ],
 "metadata": {
  "kernelspec": {
   "display_name": "Python 3",
   "language": "python",
   "name": "python3"
  },
  "language_info": {
   "codemirror_mode": {
    "name": "ipython",
    "version": 3
   },
   "file_extension": ".py",
   "mimetype": "text/x-python",
   "name": "python",
   "nbconvert_exporter": "python",
   "pygments_lexer": "ipython3",
   "version": "3.8.8"
  }
 },
 "nbformat": 4,
 "nbformat_minor": 5
}
