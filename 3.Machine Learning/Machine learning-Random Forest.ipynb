{
 "cells": [
  {
   "cell_type": "code",
   "execution_count": null,
   "id": "6fb3d734",
   "metadata": {},
   "outputs": [],
   "source": [
    "# -*- coding: utf-8 -*-\n",
    "\n",
    "#Random Forest Regressor"
   ]
  },
  {
   "cell_type": "code",
   "execution_count": 2,
   "id": "58792d96",
   "metadata": {
    "scrolled": true
   },
   "outputs": [],
   "source": [
    "from sklearn import tree\n",
    "from sklearn.ensemble import RandomForestClassifier\n",
    "#No sobreajusta el modelo\n",
    "import pandas as pd\n",
    "import numpy as np\n",
    "\n",
    "df = pd.read_csv(r\"C:\\Users\\user\\Documents\\PYTHON\\Python data science y big data\\0.Datos\\Indicators_of_Health_Insurance_Coverage.csv\",nrows=1e5)\n",
    "df = df.dropna(subset=['Value'])\n",
    "df = df.sample(frac=1)\n",
    "df = df.head(500)\n",
    "dftest = df.tail(500)"
   ]
  },
  {
   "cell_type": "code",
   "execution_count": 4,
   "id": "d51611a9",
   "metadata": {
    "scrolled": true
   },
   "outputs": [],
   "source": [
    "clf = tree.DecisionTreeClassifier()\n",
    "\n",
    "X = df[['Low CI','High CI']]\n",
    "X_test = dftest[['Low CI','High CI']]\n",
    "Y = df['Value']>5\n",
    "Y_test = dftest['Value']>5\n",
    "\n",
    "clf = clf.fit(X,Y)\n",
    "Y_pred_test = clf.predict(X_test)"
   ]
  },
  {
   "cell_type": "code",
   "execution_count": 5,
   "id": "4a7db3f5",
   "metadata": {},
   "outputs": [
    {
     "data": {
      "text/plain": [
       "1.0"
      ]
     },
     "execution_count": 5,
     "metadata": {},
     "output_type": "execute_result"
    }
   ],
   "source": [
    "np.mean(Y_test == Y_pred_test)"
   ]
  },
  {
   "cell_type": "code",
   "execution_count": 6,
   "id": "59ffc61d",
   "metadata": {},
   "outputs": [
    {
     "data": {
      "text/plain": [
       "array([0.39834482, 0.60165518])"
      ]
     },
     "execution_count": 6,
     "metadata": {},
     "output_type": "execute_result"
    }
   ],
   "source": [
    "clf = RandomForestClassifier(n_estimators = 100, n_jobs =-1)\n",
    "#n_estimators le estamos diciendo cuantos arboles generar,n_jobs=-1 usa todos los procesadores\n",
    "#max_features(numero maximo de variables que queremos que entren en el modelo),bootstrap(muestreo con reemplazo de los datos, genera\n",
    "#muestras aleatorias de las filas)\n",
    "clf.fit(X,Y)\n",
    "Y_pred_test = clf.predict(X_test)\n",
    "\n",
    "clf.feature_importances_\n",
    "#Clasifica la importancia de las variables que hemos usado, muestra en porcentaje que variable es la mas relevante en la media \n",
    "#de todos los arboles"
   ]
  },
  {
   "cell_type": "code",
   "execution_count": 7,
   "id": "d39248e6",
   "metadata": {},
   "outputs": [
    {
     "data": {
      "text/plain": [
       "1.0"
      ]
     },
     "execution_count": 7,
     "metadata": {},
     "output_type": "execute_result"
    }
   ],
   "source": [
    "np.mean(Y_test == Y_pred_test)\n",
    "#Usualmente es mejor que cuando lo hacemos despues de estimar con arbol de regresion"
   ]
  },
  {
   "cell_type": "code",
   "execution_count": null,
   "id": "f39a74f5",
   "metadata": {},
   "outputs": [],
   "source": []
  },
  {
   "cell_type": "code",
   "execution_count": null,
   "id": "43b8281c",
   "metadata": {},
   "outputs": [],
   "source": []
  },
  {
   "cell_type": "code",
   "execution_count": null,
   "id": "53fe102d",
   "metadata": {},
   "outputs": [],
   "source": []
  },
  {
   "cell_type": "code",
   "execution_count": null,
   "id": "9f312234",
   "metadata": {},
   "outputs": [],
   "source": []
  },
  {
   "cell_type": "code",
   "execution_count": null,
   "id": "5f9f53d7",
   "metadata": {
    "scrolled": true
   },
   "outputs": [],
   "source": []
  },
  {
   "cell_type": "code",
   "execution_count": null,
   "id": "9512ea55",
   "metadata": {},
   "outputs": [],
   "source": []
  },
  {
   "cell_type": "code",
   "execution_count": null,
   "id": "269f5047",
   "metadata": {},
   "outputs": [],
   "source": []
  },
  {
   "cell_type": "code",
   "execution_count": null,
   "id": "5f325fd2",
   "metadata": {},
   "outputs": [],
   "source": []
  },
  {
   "cell_type": "code",
   "execution_count": null,
   "id": "caa6bfe9",
   "metadata": {},
   "outputs": [],
   "source": []
  }
 ],
 "metadata": {
  "kernelspec": {
   "display_name": "Python 3",
   "language": "python",
   "name": "python3"
  },
  "language_info": {
   "codemirror_mode": {
    "name": "ipython",
    "version": 3
   },
   "file_extension": ".py",
   "mimetype": "text/x-python",
   "name": "python",
   "nbconvert_exporter": "python",
   "pygments_lexer": "ipython3",
   "version": "3.8.8"
  }
 },
 "nbformat": 4,
 "nbformat_minor": 5
}
