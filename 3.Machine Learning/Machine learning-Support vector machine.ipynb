{
 "cells": [
  {
   "cell_type": "code",
   "execution_count": null,
   "id": "6fb3d734",
   "metadata": {},
   "outputs": [],
   "source": [
    "# -*- coding: utf-8 -*-\n",
    "\n",
    "#Support vector machine"
   ]
  },
  {
   "cell_type": "code",
   "execution_count": 1,
   "id": "58792d96",
   "metadata": {
    "scrolled": true
   },
   "outputs": [],
   "source": [
    "from sklearn.svm import SVC\n",
    "import pandas as pd\n",
    "import numpy as np\n",
    "\n",
    "df = pd.read_csv(r\"C:\\Users\\user\\Documents\\PYTHON\\Python data science y big data\\0.Datos\\Indicators_of_Health_Insurance_Coverage.csv\",nrows=1e5)\n",
    "df = df.dropna(subset=['Value'])\n",
    "df = df.sample(frac=1)\n",
    "df = df.head(500)\n",
    "dftest = df.tail(500)"
   ]
  },
  {
   "cell_type": "code",
   "execution_count": 2,
   "id": "d51611a9",
   "metadata": {
    "scrolled": true
   },
   "outputs": [],
   "source": [
    "X = df[['Low CI','High CI']]\n",
    "X_test = dftest[['Low CI','High CI']]\n",
    "\n",
    "Y = df['Value']>5\n",
    "Y_test = dftest['Value']>5\n",
    "\n",
    "clf = SVC()\n",
    "#Se pueden escoger distintos kernels(Linear,poly,rbf,sigmoid)\n",
    "clf.fit(X,Y)\n",
    "\n",
    "Y_pred = clf.predict(X_test)"
   ]
  },
  {
   "cell_type": "code",
   "execution_count": 5,
   "id": "4a7db3f5",
   "metadata": {},
   "outputs": [
    {
     "data": {
      "text/plain": [
       "0.99"
      ]
     },
     "execution_count": 5,
     "metadata": {},
     "output_type": "execute_result"
    }
   ],
   "source": [
    "np.mean(Y_pred == Y_test)"
   ]
  },
  {
   "cell_type": "code",
   "execution_count": 7,
   "id": "59ffc61d",
   "metadata": {},
   "outputs": [],
   "source": [
    "clf = SVC(kernel='linear')\n",
    "clf.fit(X,Y)\n",
    "\n",
    "Y_pred = clf.predict(X_test)"
   ]
  },
  {
   "cell_type": "code",
   "execution_count": 8,
   "id": "d39248e6",
   "metadata": {},
   "outputs": [
    {
     "data": {
      "text/plain": [
       "0.998"
      ]
     },
     "execution_count": 8,
     "metadata": {},
     "output_type": "execute_result"
    }
   ],
   "source": [
    "np.mean(Y_pred == Y_test)\n",
    "#Mejoró la capacidad predictiva del modelo "
   ]
  },
  {
   "cell_type": "code",
   "execution_count": null,
   "id": "f39a74f5",
   "metadata": {},
   "outputs": [],
   "source": []
  },
  {
   "cell_type": "code",
   "execution_count": null,
   "id": "43b8281c",
   "metadata": {},
   "outputs": [],
   "source": []
  },
  {
   "cell_type": "code",
   "execution_count": null,
   "id": "53fe102d",
   "metadata": {},
   "outputs": [],
   "source": []
  },
  {
   "cell_type": "code",
   "execution_count": null,
   "id": "9f312234",
   "metadata": {},
   "outputs": [],
   "source": []
  },
  {
   "cell_type": "code",
   "execution_count": null,
   "id": "5f9f53d7",
   "metadata": {
    "scrolled": true
   },
   "outputs": [],
   "source": []
  },
  {
   "cell_type": "code",
   "execution_count": null,
   "id": "9512ea55",
   "metadata": {},
   "outputs": [],
   "source": []
  },
  {
   "cell_type": "code",
   "execution_count": null,
   "id": "269f5047",
   "metadata": {},
   "outputs": [],
   "source": []
  },
  {
   "cell_type": "code",
   "execution_count": null,
   "id": "5f325fd2",
   "metadata": {},
   "outputs": [],
   "source": []
  },
  {
   "cell_type": "code",
   "execution_count": null,
   "id": "caa6bfe9",
   "metadata": {},
   "outputs": [],
   "source": []
  }
 ],
 "metadata": {
  "kernelspec": {
   "display_name": "Python 3",
   "language": "python",
   "name": "python3"
  },
  "language_info": {
   "codemirror_mode": {
    "name": "ipython",
    "version": 3
   },
   "file_extension": ".py",
   "mimetype": "text/x-python",
   "name": "python",
   "nbconvert_exporter": "python",
   "pygments_lexer": "ipython3",
   "version": "3.8.8"
  }
 },
 "nbformat": 4,
 "nbformat_minor": 5
}
