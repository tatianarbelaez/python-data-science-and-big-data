{
 "cells": [
  {
   "cell_type": "code",
   "execution_count": null,
   "id": "6fb3d734",
   "metadata": {},
   "outputs": [],
   "source": [
    "# -*- coding: utf-8 -*-\n",
    "\n",
    "#Regresion lineal"
   ]
  },
  {
   "cell_type": "code",
   "execution_count": 26,
   "id": "58792d96",
   "metadata": {
    "scrolled": true
   },
   "outputs": [],
   "source": [
    "from sklearn import datasets, linear_model\n",
    "from sklearn.metrics import mean_squared_error, r2_score\n",
    "import pandas as pd\n",
    "import numpy as np\n",
    "import matplotlib.pyplot as plt\n",
    "\n",
    "df = pd.read_csv(r\"C:\\Users\\user\\Documents\\PYTHON\\Python data science y big data\\Datos\\Indicators_of_Health_Insurance_Coverage.csv\",nrows=1e5)\n"
   ]
  },
  {
   "cell_type": "code",
   "execution_count": 27,
   "id": "d51611a9",
   "metadata": {
    "scrolled": true
   },
   "outputs": [],
   "source": [
    "df = df.dropna(subset=['Value'])\n",
    "df = df.sample(frac=1).head(100000)\n",
    "Y = df['Value']\n",
    "X = df['High CI']\n",
    "X = X.values.reshape(-1,1)\n",
    "Y = Y.values.reshape(-1,1)"
   ]
  },
  {
   "cell_type": "code",
   "execution_count": 18,
   "id": "d1f9c799",
   "metadata": {},
   "outputs": [
    {
     "data": {
      "text/plain": [
       "Index(['Indicator', 'Group', 'State', 'Subgroup', 'Phase', 'Time Period',\n",
       "       'Time Period Label', 'Time Period Start Date', 'Time Period End Date',\n",
       "       'Value', 'Low CI', 'High CI', 'Confidence Interval', 'Quartile Range',\n",
       "       'Suppression Flag'],\n",
       "      dtype='object')"
      ]
     },
     "execution_count": 18,
     "metadata": {},
     "output_type": "execute_result"
    }
   ],
   "source": [
    "df.columns"
   ]
  },
  {
   "cell_type": "code",
   "execution_count": 20,
   "id": "4a7db3f5",
   "metadata": {},
   "outputs": [
    {
     "name": "stdout",
     "output_type": "stream",
     "text": [
      "coeficientes:  [[0.99250151]]\n",
      "R Cuadrado:  0.9958722435758574\n"
     ]
    }
   ],
   "source": [
    "regr = linear_model.LinearRegression()\n",
    "regr.fit(X,Y)\n",
    "\n",
    "print('coeficientes: ',regr.coef_)\n",
    "Y_pred = regr.predict(X)\n",
    "print('R Cuadrado: ',r2_score(Y,Y_pred))\n",
    "\n",
    "#Regresion lineal"
   ]
  },
  {
   "cell_type": "code",
   "execution_count": 22,
   "id": "d39248e6",
   "metadata": {},
   "outputs": [
    {
     "data": {
      "image/png": "[encoded data removed]",
      "text/plain": [
       "<Figure size 432x288 with 1 Axes>"
      ]
     },
     "metadata": {
      "needs_background": "light"
     },
     "output_type": "display_data"
    }
   ],
   "source": [
    "plt.scatter(X[1:10000],Y[1:10000],color='Red')\n",
    "plt.plot(X[1:10000],Y_pred[1:10000],color='Blue')\n",
    "plt.show()\n",
    "#Vemos que efectivamente estan muy correlacionados"
   ]
  },
  {
   "cell_type": "code",
   "execution_count": 41,
   "id": "f39a74f5",
   "metadata": {},
   "outputs": [],
   "source": [
    "x = df[['Value','High CI','Low CI','Time Period']]\n",
    "\n",
    "#si queremos que las variables regresoras sean categoricas y aun no lo son hacemos\n",
    "#df['Month'] = df['Month'].apply(str)\n",
    "\n",
    "dummies = pd.get_dummies(data=df[['Group','Subgroup','State']])\n",
    "x = dummies.add(x,fill_value=0)\n",
    "\n"
   ]
  },
  {
   "cell_type": "code",
   "execution_count": 42,
   "id": "43b8281c",
   "metadata": {},
   "outputs": [
    {
     "data": {
      "text/plain": [
       "Index(['Group_By Age', 'Group_By Disability status', 'Group_By Education',\n",
       "       'Group_By Gender identity', 'Group_By Race/Hispanic ethnicity',\n",
       "       'Group_By Sex', 'Group_By Sexual orientation', 'Group_By State',\n",
       "       'Group_National Estimate', 'High CI',\n",
       "       ...\n",
       "       'Subgroup_Vermont', 'Subgroup_Virginia', 'Subgroup_Washington',\n",
       "       'Subgroup_West Virginia', 'Subgroup_Wisconsin',\n",
       "       'Subgroup_With disability', 'Subgroup_Without disability',\n",
       "       'Subgroup_Wyoming', 'Time Period', 'Value'],\n",
       "      dtype='object', length=140)"
      ]
     },
     "execution_count": 42,
     "metadata": {},
     "output_type": "execute_result"
    }
   ],
   "source": [
    "y = df['Value']\n",
    "y = y.values.reshape(-1,1)\n",
    "\n",
    "x.columns"
   ]
  },
  {
   "cell_type": "code",
   "execution_count": 43,
   "id": "53fe102d",
   "metadata": {},
   "outputs": [
    {
     "name": "stdout",
     "output_type": "stream",
     "text": [
      "R cuadrado:  1.0\n"
     ]
    }
   ],
   "source": [
    "regr = linear_model.LinearRegression()\n",
    "regr.fit(x,y)\n",
    "\n",
    "#print('Coeficientes: ',regr.coef_)\n",
    "y_pred = regr.predict(x)\n",
    "print('R cuadrado: ',r2_score(y,y_pred))\n",
    "#este resultado significa que las variables en X (group y subgroup) explicann a la perfeccion la variable Value"
   ]
  },
  {
   "cell_type": "code",
   "execution_count": 37,
   "id": "9f312234",
   "metadata": {},
   "outputs": [],
   "source": [
    "#Si no explicara tan bien la variable podriamos intentar agregar otra variable explicativa asi \n",
    "\n",
    "x = x.add(df[['High CI']],fill_value=0)"
   ]
  },
  {
   "cell_type": "code",
   "execution_count": null,
   "id": "5f9f53d7",
   "metadata": {
    "scrolled": true
   },
   "outputs": [],
   "source": []
  },
  {
   "cell_type": "code",
   "execution_count": null,
   "id": "9512ea55",
   "metadata": {},
   "outputs": [],
   "source": []
  },
  {
   "cell_type": "code",
   "execution_count": null,
   "id": "269f5047",
   "metadata": {},
   "outputs": [],
   "source": []
  },
  {
   "cell_type": "code",
   "execution_count": null,
   "id": "5f325fd2",
   "metadata": {},
   "outputs": [],
   "source": []
  },
  {
   "cell_type": "code",
   "execution_count": null,
   "id": "caa6bfe9",
   "metadata": {},
   "outputs": [],
   "source": []
  }
 ],
 "metadata": {
  "kernelspec": {
   "display_name": "Python 3",
   "language": "python",
   "name": "python3"
  },
  "language_info": {
   "codemirror_mode": {
    "name": "ipython",
    "version": 3
   },
   "file_extension": ".py",
   "mimetype": "text/x-python",
   "name": "python",
   "nbconvert_exporter": "python",
   "pygments_lexer": "ipython3",
   "version": "3.8.8"
  }
 },
 "nbformat": 4,
 "nbformat_minor": 5
}
