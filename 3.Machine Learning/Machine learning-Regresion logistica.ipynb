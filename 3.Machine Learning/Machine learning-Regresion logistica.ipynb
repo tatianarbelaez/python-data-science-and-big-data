{
 "cells": [
  {
   "cell_type": "code",
   "execution_count": null,
   "id": "6fb3d734",
   "metadata": {},
   "outputs": [],
   "source": [
    "# -*- coding: utf-8 -*-\n",
    "\n",
    "#Regresion Logistica"
   ]
  },
  {
   "cell_type": "code",
   "execution_count": 1,
   "id": "58792d96",
   "metadata": {
    "scrolled": true
   },
   "outputs": [],
   "source": [
    "from sklearn.linear_model import LogisticRegression\n",
    "from sklearn.metrics import confusion_matrix\n",
    "import pandas as pd\n",
    "import numpy as np\n",
    "import matplotlib.pyplot as plt\n",
    "\n",
    "df = pd.read_csv(r\"C:\\Users\\user\\Documents\\PYTHON\\Python data science y big data\\Datos\\Indicators_of_Health_Insurance_Coverage.csv\",nrows=1e5)\n"
   ]
  },
  {
   "cell_type": "code",
   "execution_count": 2,
   "id": "d51611a9",
   "metadata": {
    "scrolled": true
   },
   "outputs": [],
   "source": [
    "df = df.dropna(subset=['Low CI','Group'])\n",
    "df = df.sample(frac=1).head(1000)\n",
    "Y = df[['Group']]\n",
    "X = df[['Low CI']]"
   ]
  },
  {
   "cell_type": "code",
   "execution_count": 3,
   "id": "4a7db3f5",
   "metadata": {},
   "outputs": [
    {
     "name": "stderr",
     "output_type": "stream",
     "text": [
      "C:\\Users\\user\\anaconda3\\lib\\site-packages\\sklearn\\linear_model\\_logistic.py:763: ConvergenceWarning: lbfgs failed to converge (status=1):\n",
      "STOP: TOTAL NO. of ITERATIONS REACHED LIMIT.\n",
      "\n",
      "Increase the number of iterations (max_iter) or scale the data as shown in:\n",
      "    https://scikit-learn.org/stable/modules/preprocessing.html\n",
      "Please also refer to the documentation for alternative solver options:\n",
      "    https://scikit-learn.org/stable/modules/linear_model.html#logistic-regression\n",
      "  n_iter_i = _check_optimize_result(\n"
     ]
    }
   ],
   "source": [
    "LogisticRegression(solver='lbfgs', max_iter=10000)\n",
    "logreg = LogisticRegression()\n",
    "model = logreg.fit(X, Y.values.ravel())\n",
    "Y_pred = logreg.predict(X)\n",
    "#no es el numero de iteraciones, toca averiguar como mas lo puedo solucionar--> el error puede ser que no es una dummy "
   ]
  },
  {
   "cell_type": "code",
   "execution_count": 4,
   "id": "59ffc61d",
   "metadata": {},
   "outputs": [
    {
     "data": {
      "text/plain": [
       "array([[0.058, 0.005, 0.057, ..., 0.007, 0.752, 0.033],\n",
       "       [0.048, 0.01 , 0.056, ..., 0.008, 0.768, 0.013],\n",
       "       [0.047, 0.01 , 0.055, ..., 0.008, 0.767, 0.012],\n",
       "       ...,\n",
       "       [0.046, 0.011, 0.055, ..., 0.008, 0.765, 0.011],\n",
       "       [0.046, 0.01 , 0.055, ..., 0.008, 0.766, 0.012],\n",
       "       [0.048, 0.009, 0.056, ..., 0.007, 0.768, 0.014]])"
      ]
     },
     "execution_count": 4,
     "metadata": {},
     "output_type": "execute_result"
    }
   ],
   "source": [
    "np.round(logreg.predict_proba(X),3)\n",
    "#arroja las probabilidades que dice el modelo, osea para el todos los casos dicen cual es la probabilidad de que este en cualquiera\n",
    "#de las categorias "
   ]
  },
  {
   "cell_type": "code",
   "execution_count": null,
   "id": "d39248e6",
   "metadata": {},
   "outputs": [],
   "source": [
    "#Con este comando evaluamos la eficiencia del modelo (cuando coinciden las predicciones con el valor real) entre mas cerca a 1\n",
    "#mejor predice los datos el modelo \n",
    "np.mean(Y_pred==Y)\n",
    "#No corro esta linea ya que debido al problema en la linea 3, ConvergenceWarning: lbfgs failed to converge (status=1):\n",
    "#STOP: TOTAL NO. of ITERATIONS REACHED LIMIT. no va a dar lo que necesitamos que es solo un numero "
   ]
  },
  {
   "cell_type": "code",
   "execution_count": 6,
   "id": "f39a74f5",
   "metadata": {},
   "outputs": [
    {
     "data": {
      "text/plain": [
       "Series([], dtype: float64)"
      ]
     },
     "execution_count": 6,
     "metadata": {},
     "output_type": "execute_result"
    }
   ],
   "source": [
    "np.mean(Y)"
   ]
  },
  {
   "cell_type": "code",
   "execution_count": 5,
   "id": "43b8281c",
   "metadata": {},
   "outputs": [
    {
     "name": "stdout",
     "output_type": "stream",
     "text": [
      "[[  0   0   0   0   0   0   0  50   0]\n",
      " [  0   0   0   0   0   0   0   8   0]\n",
      " [  0   0   0   0   0   0   0  54   0]\n",
      " [  0   0   0   0   0   0   0   2   0]\n",
      " [  0   0   0   0   0   0   0  73   0]\n",
      " [  0   0   0   0   0   0   0  24   0]\n",
      " [  0   0   0   0   0   0   0   6   0]\n",
      " [  0   0   0   0   0   0   0 762   0]\n",
      " [  0   0   0   0   0   0   0  21   0]]\n"
     ]
    }
   ],
   "source": [
    "confusion_matrix = confusion_matrix(Y,Y_pred)\n",
    "print(confusion_matrix)"
   ]
  },
  {
   "cell_type": "code",
   "execution_count": null,
   "id": "53fe102d",
   "metadata": {},
   "outputs": [],
   "source": []
  },
  {
   "cell_type": "code",
   "execution_count": null,
   "id": "9f312234",
   "metadata": {},
   "outputs": [],
   "source": []
  },
  {
   "cell_type": "code",
   "execution_count": null,
   "id": "5f9f53d7",
   "metadata": {
    "scrolled": true
   },
   "outputs": [],
   "source": []
  },
  {
   "cell_type": "code",
   "execution_count": null,
   "id": "9512ea55",
   "metadata": {},
   "outputs": [],
   "source": []
  },
  {
   "cell_type": "code",
   "execution_count": null,
   "id": "269f5047",
   "metadata": {},
   "outputs": [],
   "source": []
  },
  {
   "cell_type": "code",
   "execution_count": null,
   "id": "5f325fd2",
   "metadata": {},
   "outputs": [],
   "source": []
  },
  {
   "cell_type": "code",
   "execution_count": null,
   "id": "caa6bfe9",
   "metadata": {},
   "outputs": [],
   "source": []
  }
 ],
 "metadata": {
  "kernelspec": {
   "display_name": "Python 3",
   "language": "python",
   "name": "python3"
  },
  "language_info": {
   "codemirror_mode": {
    "name": "ipython",
    "version": 3
   },
   "file_extension": ".py",
   "mimetype": "text/x-python",
   "name": "python",
   "nbconvert_exporter": "python",
   "pygments_lexer": "ipython3",
   "version": "3.8.8"
  }
 },
 "nbformat": 4,
 "nbformat_minor": 5
}
