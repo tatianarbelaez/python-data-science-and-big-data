{
 "cells": [
  {
   "cell_type": "code",
   "execution_count": 1,
   "id": "6fb3d734",
   "metadata": {},
   "outputs": [],
   "source": [
    "# -*- coding: utf-8 -*-\n",
    "\n",
    "#K- Nearest neighbours"
   ]
  },
  {
   "cell_type": "code",
   "execution_count": 3,
   "id": "58792d96",
   "metadata": {
    "scrolled": true
   },
   "outputs": [],
   "source": [
    "from sklearn.neighbors import KNeighborsClassifier\n",
    "import pandas as pd\n",
    "import numpy as np\n",
    "\n",
    "df = pd.read_csv(r\"C:\\Users\\user\\Documents\\PYTHON\\Python data science y big data\\0.Datos\\Indicators_of_Health_Insurance_Coverage.csv\",nrows=1e5)"
   ]
  },
  {
   "cell_type": "code",
   "execution_count": 4,
   "id": "828a2419",
   "metadata": {},
   "outputs": [],
   "source": [
    "newdf = df[['Low CI','High CI','Value']].dropna()\n",
    "cols = newdf[newdf.columns[newdf.columns != 'Value']]"
   ]
  },
  {
   "cell_type": "code",
   "execution_count": 5,
   "id": "d51611a9",
   "metadata": {
    "scrolled": true
   },
   "outputs": [],
   "source": [
    "filtro = newdf['Value']>10"
   ]
  },
  {
   "cell_type": "code",
   "execution_count": 6,
   "id": "4a7db3f5",
   "metadata": {},
   "outputs": [],
   "source": [
    "newdf['Value'][filtro]='Alto'\n",
    "newdf['Value'][filtro==False]='Bajo'\n",
    "#Se le asignan etiquetas a los casos "
   ]
  },
  {
   "cell_type": "code",
   "execution_count": 7,
   "id": "59ffc61d",
   "metadata": {},
   "outputs": [
    {
     "data": {
      "text/plain": [
       "0    Alto\n",
       "1    Alto\n",
       "2    Alto\n",
       "3    Alto\n",
       "4    Bajo\n",
       "Name: Value, dtype: object"
      ]
     },
     "execution_count": 7,
     "metadata": {},
     "output_type": "execute_result"
    }
   ],
   "source": [
    "newdf['Value'].head()"
   ]
  },
  {
   "cell_type": "code",
   "execution_count": 8,
   "id": "c2afa9d6",
   "metadata": {},
   "outputs": [],
   "source": [
    "nbr_3 = KNeighborsClassifier(n_neighbors=3,n_jobs=-1)"
   ]
  },
  {
   "cell_type": "code",
   "execution_count": 9,
   "id": "5b6db487",
   "metadata": {},
   "outputs": [
    {
     "data": {
      "text/plain": [
       "KNeighborsClassifier(n_jobs=-1, n_neighbors=3)"
      ]
     },
     "execution_count": 9,
     "metadata": {},
     "output_type": "execute_result"
    }
   ],
   "source": [
    "nbr_3.fit(cols,newdf['Value'])"
   ]
  },
  {
   "cell_type": "code",
   "execution_count": 10,
   "id": "d39248e6",
   "metadata": {},
   "outputs": [],
   "source": [
    "predicciones_3 = nbr_3.predict(cols)"
   ]
  },
  {
   "cell_type": "code",
   "execution_count": 11,
   "id": "f5f28526",
   "metadata": {},
   "outputs": [
    {
     "data": {
      "text/plain": [
       "0.9987911349899261"
      ]
     },
     "execution_count": 11,
     "metadata": {},
     "output_type": "execute_result"
    }
   ],
   "source": [
    "np.mean(predicciones_3==newdf['Value'])\n",
    "#Ver que tan buena fue la prediccion, puede ser engañoso"
   ]
  },
  {
   "cell_type": "code",
   "execution_count": 12,
   "id": "f39a74f5",
   "metadata": {},
   "outputs": [
    {
     "data": {
      "text/plain": [
       "0.12948287441235729"
      ]
     },
     "execution_count": 12,
     "metadata": {},
     "output_type": "execute_result"
    }
   ],
   "source": [
    "np.mean(newdf['Value']=='Bajo')\n",
    "#Como vemos con la informacion de solo la media, tenemos capacidad predictiva muy baja"
   ]
  },
  {
   "cell_type": "code",
   "execution_count": 13,
   "id": "43b8281c",
   "metadata": {},
   "outputs": [
    {
     "data": {
      "text/plain": [
       "0.9998656816655473"
      ]
     },
     "execution_count": 13,
     "metadata": {},
     "output_type": "execute_result"
    }
   ],
   "source": [
    "nbr_1 = KNeighborsClassifier(n_neighbors=1,n_jobs=-1)\n",
    "nbr_1.fit(cols,newdf['Value'])\n",
    "predicciones_1 = nbr_1.predict(cols)\n",
    "np.mean(predicciones_1==newdf['Value'])\n",
    "\n",
    "#Como vemos mejoró la capacidad predictiva del modelo"
   ]
  },
  {
   "cell_type": "code",
   "execution_count": 15,
   "id": "53fe102d",
   "metadata": {},
   "outputs": [
    {
     "name": "stdout",
     "output_type": "stream",
     "text": [
      "[[6481    0]\n",
      " [   1  963]]\n"
     ]
    }
   ],
   "source": [
    "from sklearn.metrics import confusion_matrix\n",
    "confusion_matrix = confusion_matrix(newdf['Value'],predicciones_1)\n",
    "print(confusion_matrix)"
   ]
  },
  {
   "cell_type": "code",
   "execution_count": null,
   "id": "9f312234",
   "metadata": {},
   "outputs": [],
   "source": []
  },
  {
   "cell_type": "code",
   "execution_count": null,
   "id": "5f9f53d7",
   "metadata": {
    "scrolled": true
   },
   "outputs": [],
   "source": []
  },
  {
   "cell_type": "code",
   "execution_count": null,
   "id": "9512ea55",
   "metadata": {},
   "outputs": [],
   "source": []
  },
  {
   "cell_type": "code",
   "execution_count": null,
   "id": "269f5047",
   "metadata": {},
   "outputs": [],
   "source": []
  },
  {
   "cell_type": "code",
   "execution_count": null,
   "id": "5f325fd2",
   "metadata": {},
   "outputs": [],
   "source": []
  },
  {
   "cell_type": "code",
   "execution_count": null,
   "id": "caa6bfe9",
   "metadata": {},
   "outputs": [],
   "source": []
  }
 ],
 "metadata": {
  "kernelspec": {
   "display_name": "Python 3",
   "language": "python",
   "name": "python3"
  },
  "language_info": {
   "codemirror_mode": {
    "name": "ipython",
    "version": 3
   },
   "file_extension": ".py",
   "mimetype": "text/x-python",
   "name": "python",
   "nbconvert_exporter": "python",
   "pygments_lexer": "ipython3",
   "version": "3.8.8"
  }
 },
 "nbformat": 4,
 "nbformat_minor": 5
}
